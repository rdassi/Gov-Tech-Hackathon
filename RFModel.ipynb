{
  "nbformat": 4,
  "nbformat_minor": 0,
  "metadata": {
    "colab": {
      "name": "RFModel.ipynb",
      "provenance": []
    },
    "kernelspec": {
      "name": "python3",
      "display_name": "Python 3"
    }
  },
  "cells": [
    {
      "cell_type": "code",
      "metadata": {
        "id": "4iiazjBS3SP7"
      },
      "source": [
        "import pandas as pd \n",
        "import numpy as np\n",
        "from sklearn.metrics import classification_report\n",
        "from sklearn import metrics\n",
        "from sklearn import tree"
      ],
      "execution_count": 5,
      "outputs": []
    },
    {
      "cell_type": "code",
      "metadata": {
        "id": "Yt-Thvkb3V8z",
        "outputId": "6040e552-d0ac-4938-d441-f836041cca42",
        "colab": {
          "base_uri": "https://localhost:8080/"
        }
      },
      "source": [
        "from google.colab import drive \n",
        "drive.mount('/content/gdrive')"
      ],
      "execution_count": 2,
      "outputs": [
        {
          "output_type": "stream",
          "text": [
            "Mounted at /content/gdrive\n"
          ],
          "name": "stdout"
        }
      ]
    },
    {
      "cell_type": "code",
      "metadata": {
        "id": "G5CGqsuE3aHB"
      },
      "source": [
        "root_path= '/content/gdrive/My Drive/MergeFileCrop.csv'"
      ],
      "execution_count": 3,
      "outputs": []
    },
    {
      "cell_type": "code",
      "metadata": {
        "id": "5aMehYk332oT"
      },
      "source": [
        "df=pd.read_csv(root_path)"
      ],
      "execution_count": 6,
      "outputs": []
    },
    {
      "cell_type": "code",
      "metadata": {
        "id": "5bXcJJhN38Q1",
        "outputId": "e8a4c414-5789-4429-e6c7-745772a8502b",
        "colab": {
          "base_uri": "https://localhost:8080/",
          "height": 204
        }
      },
      "source": [
        "df.head()"
      ],
      "execution_count": 7,
      "outputs": [
        {
          "output_type": "execute_result",
          "data": {
            "text/html": [
              "<div>\n",
              "<style scoped>\n",
              "    .dataframe tbody tr th:only-of-type {\n",
              "        vertical-align: middle;\n",
              "    }\n",
              "\n",
              "    .dataframe tbody tr th {\n",
              "        vertical-align: top;\n",
              "    }\n",
              "\n",
              "    .dataframe thead th {\n",
              "        text-align: right;\n",
              "    }\n",
              "</style>\n",
              "<table border=\"1\" class=\"dataframe\">\n",
              "  <thead>\n",
              "    <tr style=\"text-align: right;\">\n",
              "      <th></th>\n",
              "      <th>Unnamed: 0</th>\n",
              "      <th>temperature</th>\n",
              "      <th>humidity</th>\n",
              "      <th>ph</th>\n",
              "      <th>rainfall</th>\n",
              "      <th>label</th>\n",
              "    </tr>\n",
              "  </thead>\n",
              "  <tbody>\n",
              "    <tr>\n",
              "      <th>0</th>\n",
              "      <td>0</td>\n",
              "      <td>20.879744</td>\n",
              "      <td>82.002744</td>\n",
              "      <td>6.502985</td>\n",
              "      <td>202.935536</td>\n",
              "      <td>rice</td>\n",
              "    </tr>\n",
              "    <tr>\n",
              "      <th>1</th>\n",
              "      <td>1</td>\n",
              "      <td>21.770462</td>\n",
              "      <td>80.319644</td>\n",
              "      <td>7.038096</td>\n",
              "      <td>226.655537</td>\n",
              "      <td>rice</td>\n",
              "    </tr>\n",
              "    <tr>\n",
              "      <th>2</th>\n",
              "      <td>2</td>\n",
              "      <td>23.004459</td>\n",
              "      <td>82.320763</td>\n",
              "      <td>7.840207</td>\n",
              "      <td>263.964248</td>\n",
              "      <td>rice</td>\n",
              "    </tr>\n",
              "    <tr>\n",
              "      <th>3</th>\n",
              "      <td>3</td>\n",
              "      <td>26.491096</td>\n",
              "      <td>80.158363</td>\n",
              "      <td>6.980401</td>\n",
              "      <td>242.864034</td>\n",
              "      <td>rice</td>\n",
              "    </tr>\n",
              "    <tr>\n",
              "      <th>4</th>\n",
              "      <td>4</td>\n",
              "      <td>20.130175</td>\n",
              "      <td>81.604873</td>\n",
              "      <td>7.628473</td>\n",
              "      <td>262.717340</td>\n",
              "      <td>rice</td>\n",
              "    </tr>\n",
              "  </tbody>\n",
              "</table>\n",
              "</div>"
            ],
            "text/plain": [
              "   Unnamed: 0  temperature   humidity        ph    rainfall label\n",
              "0           0    20.879744  82.002744  6.502985  202.935536  rice\n",
              "1           1    21.770462  80.319644  7.038096  226.655537  rice\n",
              "2           2    23.004459  82.320763  7.840207  263.964248  rice\n",
              "3           3    26.491096  80.158363  6.980401  242.864034  rice\n",
              "4           4    20.130175  81.604873  7.628473  262.717340  rice"
            ]
          },
          "metadata": {
            "tags": []
          },
          "execution_count": 7
        }
      ]
    },
    {
      "cell_type": "code",
      "metadata": {
        "id": "JIJEt6Uk4Ipj"
      },
      "source": [
        "df=df.drop(columns=['Unnamed: 0','ph'])"
      ],
      "execution_count": 14,
      "outputs": []
    },
    {
      "cell_type": "code",
      "metadata": {
        "id": "6TImcMD75Zw6"
      },
      "source": [
        "features = df[['temperature', 'humidity','rainfall']]\n",
        "target = df['label']"
      ],
      "execution_count": 15,
      "outputs": []
    },
    {
      "cell_type": "code",
      "metadata": {
        "id": "WwBSyLJD5ptY"
      },
      "source": [
        "from sklearn.model_selection import train_test_split\n",
        "X_train, X_test, y_train, y_test = train_test_split(features,target,test_size = 0.2,random_state =2)"
      ],
      "execution_count": 17,
      "outputs": []
    },
    {
      "cell_type": "code",
      "metadata": {
        "id": "EkfojnAt6ANh"
      },
      "source": [
        "from sklearn.ensemble import RandomForestClassifier\n",
        "\n",
        "regressor = RandomForestClassifier(n_estimators=20, random_state=0)\n",
        "regressor.fit(Xtrain,Ytrain)\n",
        "\n",
        "predicted_values = regressor.predict(Xtest)\n",
        "\n",
        "x = metrics.accuracy_score(y_test, predicted_values)"
      ],
      "execution_count": 20,
      "outputs": []
    },
    {
      "cell_type": "code",
      "metadata": {
        "id": "O9aSG6OM6Wkh",
        "outputId": "61ed41c9-6ed5-44ba-e156-06fbd08004a8",
        "colab": {
          "base_uri": "https://localhost:8080/"
        }
      },
      "source": [
        "x"
      ],
      "execution_count": 21,
      "outputs": [
        {
          "output_type": "execute_result",
          "data": {
            "text/plain": [
              "0.9136363636363637"
            ]
          },
          "metadata": {
            "tags": []
          },
          "execution_count": 21
        }
      ]
    },
    {
      "cell_type": "code",
      "metadata": {
        "id": "IgbP-kId6XgL",
        "outputId": "7c03f1fe-d306-44bd-e305-57d20296abae",
        "colab": {
          "base_uri": "https://localhost:8080/"
        }
      },
      "source": [
        "print(classification_report(y_test,predicted_values))"
      ],
      "execution_count": 22,
      "outputs": [
        {
          "output_type": "stream",
          "text": [
            "              precision    recall  f1-score   support\n",
            "\n",
            "       apple       0.62      1.00      0.76        13\n",
            "      banana       1.00      1.00      1.00        17\n",
            "   blackgram       0.75      0.94      0.83        16\n",
            "    chickpea       1.00      1.00      1.00        21\n",
            "     coconut       0.88      1.00      0.93        21\n",
            "      coffee       0.95      0.95      0.95        22\n",
            "      cotton       0.90      0.95      0.93        20\n",
            "      grapes       0.94      0.89      0.91        18\n",
            "        jute       0.84      0.96      0.90        28\n",
            " kidneybeans       1.00      1.00      1.00        14\n",
            "      lentil       0.96      1.00      0.98        23\n",
            "       maize       0.95      0.95      0.95        21\n",
            "       mango       0.96      1.00      0.98        26\n",
            "   mothbeans       1.00      0.74      0.85        19\n",
            "    mungbean       0.96      1.00      0.98        24\n",
            "   muskmelon       1.00      1.00      1.00        23\n",
            "      orange       0.95      0.69      0.80        29\n",
            "      papaya       1.00      0.74      0.85        19\n",
            "  pigeonpeas       0.94      0.89      0.91        18\n",
            " pomegranate       0.67      0.71      0.69        17\n",
            "        rice       0.92      0.69      0.79        16\n",
            "  watermelon       1.00      1.00      1.00        15\n",
            "\n",
            "    accuracy                           0.91       440\n",
            "   macro avg       0.92      0.91      0.91       440\n",
            "weighted avg       0.92      0.91      0.91       440\n",
            "\n"
          ],
          "name": "stdout"
        }
      ]
    },
    {
      "cell_type": "code",
      "metadata": {
        "id": "yycqL7gi7r7b",
        "outputId": "56f74ca2-969c-4341-85d0-5a2313dbe215",
        "colab": {
          "base_uri": "https://localhost:8080/"
        }
      },
      "source": [
        "predicted_values"
      ],
      "execution_count": 29,
      "outputs": [
        {
          "output_type": "execute_result",
          "data": {
            "text/plain": [
              "array(['coffee', 'apple', 'apple', 'cotton', 'mungbean', 'coffee',\n",
              "       'watermelon', 'coconut', 'coffee', 'mango', 'chickpea', 'jute',\n",
              "       'papaya', 'mothbeans', 'mango', 'maize', 'papaya', 'blackgram',\n",
              "       'banana', 'apple', 'banana', 'kidneybeans', 'muskmelon', 'banana',\n",
              "       'mango', 'kidneybeans', 'coconut', 'coconut', 'jute', 'mungbean',\n",
              "       'apple', 'chickpea', 'mungbean', 'mungbean', 'blackgram', 'coffee',\n",
              "       'banana', 'muskmelon', 'blackgram', 'blackgram', 'apple',\n",
              "       'pomegranate', 'pomegranate', 'jute', 'blackgram', 'apple',\n",
              "       'pomegranate', 'mungbean', 'coffee', 'chickpea', 'coffee',\n",
              "       'blackgram', 'banana', 'coffee', 'banana', 'lentil', 'mungbean',\n",
              "       'banana', 'lentil', 'papaya', 'jute', 'jute', 'maize', 'grapes',\n",
              "       'coffee', 'grapes', 'grapes', 'pomegranate', 'coffee', 'maize',\n",
              "       'apple', 'pomegranate', 'chickpea', 'mango', 'banana', 'maize',\n",
              "       'banana', 'jute', 'pomegranate', 'mungbean', 'mango', 'banana',\n",
              "       'rice', 'mothbeans', 'banana', 'muskmelon', 'orange', 'maize',\n",
              "       'maize', 'coconut', 'rice', 'pomegranate', 'mango', 'apple',\n",
              "       'pomegranate', 'muskmelon', 'banana', 'maize', 'lentil',\n",
              "       'blackgram', 'muskmelon', 'apple', 'muskmelon', 'coffee',\n",
              "       'mungbean', 'jute', 'maize', 'pomegranate', 'lentil', 'coconut',\n",
              "       'banana', 'chickpea', 'banana', 'coconut', 'apple', 'kidneybeans',\n",
              "       'chickpea', 'blackgram', 'mango', 'banana', 'jute', 'rice',\n",
              "       'mungbean', 'watermelon', 'cotton', 'muskmelon', 'coconut',\n",
              "       'coconut', 'orange', 'mungbean', 'coffee', 'muskmelon', 'jute',\n",
              "       'banana', 'chickpea', 'coffee', 'coffee', 'lentil', 'maize',\n",
              "       'mothbeans', 'blackgram', 'coconut', 'apple', 'mango', 'mango',\n",
              "       'papaya', 'rice', 'coffee', 'grapes', 'grapes', 'cotton', 'cotton',\n",
              "       'coconut', 'lentil', 'grapes', 'papaya', 'coffee', 'jute',\n",
              "       'orange', 'coffee', 'chickpea', 'mungbean', 'muskmelon', 'coconut',\n",
              "       'jute', 'rice', 'mungbean', 'mango', 'muskmelon', 'grapes',\n",
              "       'coconut', 'coffee', 'chickpea', 'watermelon', 'kidneybeans',\n",
              "       'mango', 'kidneybeans', 'coconut', 'grapes', 'mango', 'jute',\n",
              "       'mungbean', 'coconut', 'watermelon', 'banana', 'grapes', 'jute',\n",
              "       'muskmelon', 'rice', 'coconut', 'grapes', 'coffee', 'apple',\n",
              "       'lentil', 'mango', 'watermelon', 'apple', 'coconut', 'blackgram',\n",
              "       'mungbean', 'pomegranate', 'jute', 'apple', 'mothbeans',\n",
              "       'muskmelon', 'coconut', 'watermelon', 'maize', 'kidneybeans',\n",
              "       'watermelon', 'apple', 'rice', 'chickpea', 'watermelon', 'banana',\n",
              "       'mungbean', 'coconut', 'apple', 'apple', 'maize', 'coffee',\n",
              "       'mungbean', 'mango', 'coffee', 'watermelon', 'papaya',\n",
              "       'kidneybeans', 'blackgram', 'maize', 'lentil', 'watermelon',\n",
              "       'grapes', 'chickpea', 'papaya', 'jute', 'grapes', 'grapes',\n",
              "       'mothbeans', 'coffee', 'coconut', 'banana', 'mungbean', 'lentil',\n",
              "       'muskmelon', 'mango', 'coffee', 'muskmelon', 'maize', 'apple',\n",
              "       'lentil', 'lentil', 'rice', 'blackgram', 'blackgram', 'jute',\n",
              "       'lentil', 'muskmelon', 'coffee', 'grapes', 'blackgram',\n",
              "       'pomegranate', 'kidneybeans', 'chickpea', 'apple', 'muskmelon',\n",
              "       'coffee', 'coffee', 'grapes', 'grapes', 'blackgram', 'banana',\n",
              "       'apple', 'banana', 'coconut', 'mango', 'banana', 'orange',\n",
              "       'watermelon', 'blackgram', 'papaya', 'banana', 'kidneybeans',\n",
              "       'coconut', 'maize', 'blackgram', 'mungbean', 'blackgram', 'mango',\n",
              "       'mungbean', 'mango', 'jute', 'mothbeans', 'rice', 'coffee',\n",
              "       'muskmelon', 'coffee', 'mango', 'mothbeans', 'banana', 'grapes',\n",
              "       'pomegranate', 'orange', 'chickpea', 'chickpea', 'coconut',\n",
              "       'maize', 'apple', 'jute', 'lentil', 'muskmelon', 'muskmelon',\n",
              "       'mothbeans', 'papaya', 'orange', 'lentil', 'maize', 'papaya',\n",
              "       'papaya', 'chickpea', 'pomegranate', 'grapes', 'pomegranate',\n",
              "       'cotton', 'grapes', 'papaya', 'mango', 'mothbeans', 'muskmelon',\n",
              "       'kidneybeans', 'coffee', 'coconut', 'grapes', 'jute', 'muskmelon',\n",
              "       'mungbean', 'jute', 'coffee', 'coffee', 'cotton', 'orange',\n",
              "       'grapes', 'coconut', 'jute', 'lentil', 'mango', 'apple',\n",
              "       'watermelon', 'blackgram', 'chickpea', 'lentil', 'papaya',\n",
              "       'chickpea', 'jute', 'mungbean', 'chickpea', 'coconut', 'jute',\n",
              "       'grapes', 'mothbeans', 'blackgram', 'pomegranate', 'mungbean',\n",
              "       'jute', 'maize', 'mungbean', 'blackgram', 'watermelon', 'coconut',\n",
              "       'coconut', 'apple', 'grapes', 'blackgram', 'coffee', 'pomegranate',\n",
              "       'mango', 'maize', 'chickpea', 'coconut', 'jute', 'lentil', 'mango',\n",
              "       'cotton', 'muskmelon', 'chickpea', 'coffee', 'mango', 'coffee',\n",
              "       'kidneybeans', 'mango', 'blackgram', 'watermelon', 'rice',\n",
              "       'blackgram', 'lentil', 'coconut', 'rice', 'chickpea', 'coconut',\n",
              "       'jute', 'mango', 'coffee', 'jute', 'coconut', 'coconut', 'lentil',\n",
              "       'mothbeans', 'lentil', 'lentil', 'mothbeans', 'coffee', 'apple',\n",
              "       'jute', 'grapes', 'chickpea', 'coffee', 'maize', 'maize', 'jute',\n",
              "       'mungbean', 'papaya', 'jute', 'coffee', 'papaya', 'watermelon',\n",
              "       'blackgram', 'kidneybeans', 'coconut', 'maize', 'jute', 'papaya',\n",
              "       'jute', 'apple', 'mango', 'mango', 'apple', 'orange', 'muskmelon',\n",
              "       'lentil', 'kidneybeans', 'jute'], dtype=object)"
            ]
          },
          "metadata": {
            "tags": []
          },
          "execution_count": 29
        }
      ]
    },
    {
      "cell_type": "code",
      "metadata": {
        "id": "n5AcHZnL8FT1",
        "outputId": "73820ee4-6c95-44fc-d5d2-436b8030cdec",
        "colab": {
          "base_uri": "https://localhost:8080/"
        }
      },
      "source": [
        "y_test"
      ],
      "execution_count": 27,
      "outputs": [
        {
          "output_type": "execute_result",
          "data": {
            "text/plain": [
              "2121         coffee\n",
              "960     pomegranate\n",
              "952     pomegranate\n",
              "1958         cotton\n",
              "681        mungbean\n",
              "           ...     \n",
              "1684         orange\n",
              "1477      muskmelon\n",
              "851          lentil\n",
              "370     kidneybeans\n",
              "2010           jute\n",
              "Name: label, Length: 440, dtype: object"
            ]
          },
          "metadata": {
            "tags": []
          },
          "execution_count": 27
        }
      ]
    },
    {
      "cell_type": "code",
      "metadata": {
        "id": "wbLyu0Y18H0w"
      },
      "source": [
        ""
      ],
      "execution_count": null,
      "outputs": []
    }
  ]
}