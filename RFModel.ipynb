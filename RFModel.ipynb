{
  "nbformat": 4,
  "nbformat_minor": 0,
  "metadata": {
    "colab": {
      "name": "RFModel.ipynb",
      "provenance": []
    },
    "kernelspec": {
      "name": "python3",
      "display_name": "Python 3.8.5 64-bit ('env')",
      "metadata": {
        "interpreter": {
          "hash": "6af8fdb6867bcb59c2c1eb324ffdfb4df5fc89708df13d885f78fd005c111886"
        }
      }
    }
  },
  "cells": [
    {
      "cell_type": "code",
      "metadata": {
        "id": "4iiazjBS3SP7"
      },
      "source": [
        "import pandas as pd \n",
        "import numpy as np\n",
        "from sklearn.metrics import classification_report\n",
        "from sklearn import metrics\n",
        "from sklearn import tree"
      ],
      "execution_count": 33,
      "outputs": []
    },
    {
      "cell_type": "code",
      "metadata": {
        "id": "Yt-Thvkb3V8z",
        "outputId": "6040e552-d0ac-4938-d441-f836041cca42",
        "colab": {
          "base_uri": "https://localhost:8080/"
        }
      },
      "source": [
        "# from google.colab import drive \n",
        "# drive.mount('/content/gdrive')"
      ],
      "execution_count": 34,
      "outputs": []
    },
    {
      "cell_type": "code",
      "metadata": {
        "id": "G5CGqsuE3aHB"
      },
      "source": [
        "# root_path= '/content/gdrive/My Drive/MergeFileCrop.csv'\n",
        "root_path='MergeFileCrop.csv'"
      ],
      "execution_count": 35,
      "outputs": []
    },
    {
      "cell_type": "code",
      "metadata": {
        "id": "5aMehYk332oT"
      },
      "source": [
        "df=pd.read_csv(root_path)"
      ],
      "execution_count": 36,
      "outputs": []
    },
    {
      "cell_type": "code",
      "metadata": {
        "id": "5bXcJJhN38Q1",
        "outputId": "e8a4c414-5789-4429-e6c7-745772a8502b",
        "colab": {
          "base_uri": "https://localhost:8080/",
          "height": 204
        }
      },
      "source": [
        "df.head()"
      ],
      "execution_count": 37,
      "outputs": [
        {
          "output_type": "execute_result",
          "data": {
            "text/plain": [
              "   Unnamed: 0  temperature   humidity        ph    rainfall label\n",
              "0           0    20.879744  82.002744  6.502985  202.935536  rice\n",
              "1           1    21.770462  80.319644  7.038096  226.655537  rice\n",
              "2           2    23.004459  82.320763  7.840207  263.964248  rice\n",
              "3           3    26.491096  80.158363  6.980401  242.864034  rice\n",
              "4           4    20.130175  81.604873  7.628473  262.717340  rice"
            ],
            "text/html": "<div>\n<style scoped>\n    .dataframe tbody tr th:only-of-type {\n        vertical-align: middle;\n    }\n\n    .dataframe tbody tr th {\n        vertical-align: top;\n    }\n\n    .dataframe thead th {\n        text-align: right;\n    }\n</style>\n<table border=\"1\" class=\"dataframe\">\n  <thead>\n    <tr style=\"text-align: right;\">\n      <th></th>\n      <th>Unnamed: 0</th>\n      <th>temperature</th>\n      <th>humidity</th>\n      <th>ph</th>\n      <th>rainfall</th>\n      <th>label</th>\n    </tr>\n  </thead>\n  <tbody>\n    <tr>\n      <th>0</th>\n      <td>0</td>\n      <td>20.879744</td>\n      <td>82.002744</td>\n      <td>6.502985</td>\n      <td>202.935536</td>\n      <td>rice</td>\n    </tr>\n    <tr>\n      <th>1</th>\n      <td>1</td>\n      <td>21.770462</td>\n      <td>80.319644</td>\n      <td>7.038096</td>\n      <td>226.655537</td>\n      <td>rice</td>\n    </tr>\n    <tr>\n      <th>2</th>\n      <td>2</td>\n      <td>23.004459</td>\n      <td>82.320763</td>\n      <td>7.840207</td>\n      <td>263.964248</td>\n      <td>rice</td>\n    </tr>\n    <tr>\n      <th>3</th>\n      <td>3</td>\n      <td>26.491096</td>\n      <td>80.158363</td>\n      <td>6.980401</td>\n      <td>242.864034</td>\n      <td>rice</td>\n    </tr>\n    <tr>\n      <th>4</th>\n      <td>4</td>\n      <td>20.130175</td>\n      <td>81.604873</td>\n      <td>7.628473</td>\n      <td>262.717340</td>\n      <td>rice</td>\n    </tr>\n  </tbody>\n</table>\n</div>"
          },
          "metadata": {},
          "execution_count": 37
        }
      ]
    },
    {
      "cell_type": "code",
      "metadata": {
        "id": "JIJEt6Uk4Ipj"
      },
      "source": [
        "df=df.drop(columns=['Unnamed: 0','ph'])"
      ],
      "execution_count": 38,
      "outputs": []
    },
    {
      "cell_type": "code",
      "metadata": {
        "id": "6TImcMD75Zw6"
      },
      "source": [
        "features = df[['temperature', 'humidity','rainfall']]\n",
        "target = df['label']\n",
        "features.isna().any()\n"
      ],
      "execution_count": 39,
      "outputs": [
        {
          "output_type": "execute_result",
          "data": {
            "text/plain": [
              "temperature    False\n",
              "humidity       False\n",
              "rainfall       False\n",
              "dtype: bool"
            ]
          },
          "metadata": {},
          "execution_count": 39
        }
      ]
    },
    {
      "cell_type": "code",
      "execution_count": 40,
      "metadata": {},
      "outputs": [],
      "source": [
        "import pickle\n",
        "from sklearn.preprocessing import StandardScaler\n",
        "scalerfile = 'scalerrf.sav'\n",
        "scaler = StandardScaler()\n",
        "scaler.fit(features)\n",
        "pickle.dump(scaler, open(scalerfile, 'wb'))\n",
        "scaled=scaler.transform(features)"
      ]
    },
    {
      "cell_type": "code",
      "metadata": {
        "id": "WwBSyLJD5ptY"
      },
      "source": [
        "from sklearn.model_selection import train_test_split\n",
        "X_train, X_test, y_train, y_test = train_test_split(scaled,target,test_size = 0.2,random_state =2)"
      ],
      "execution_count": 41,
      "outputs": []
    },
    {
      "cell_type": "code",
      "metadata": {
        "id": "EkfojnAt6ANh"
      },
      "source": [
        "from sklearn.ensemble import RandomForestClassifier\n",
        "\n",
        "regressor = RandomForestClassifier(n_estimators=20, random_state=0)\n",
        "regressor.fit(X_train,y_train)\n",
        "\n",
        "predicted_values = regressor.predict(X_test)\n",
        "\n",
        "x = metrics.accuracy_score(y_test, predicted_values)"
      ],
      "execution_count": 42,
      "outputs": []
    },
    {
      "cell_type": "code",
      "metadata": {
        "id": "O9aSG6OM6Wkh",
        "outputId": "61ed41c9-6ed5-44ba-e156-06fbd08004a8",
        "colab": {
          "base_uri": "https://localhost:8080/"
        }
      },
      "source": [
        "x"
      ],
      "execution_count": 43,
      "outputs": [
        {
          "output_type": "execute_result",
          "data": {
            "text/plain": [
              "0.9136363636363637"
            ]
          },
          "metadata": {},
          "execution_count": 43
        }
      ]
    },
    {
      "cell_type": "code",
      "metadata": {
        "id": "IgbP-kId6XgL",
        "outputId": "7c03f1fe-d306-44bd-e305-57d20296abae",
        "colab": {
          "base_uri": "https://localhost:8080/"
        }
      },
      "source": [
        "print(classification_report(y_test,predicted_values))"
      ],
      "execution_count": 44,
      "outputs": [
        {
          "output_type": "stream",
          "name": "stdout",
          "text": [
            "              precision    recall  f1-score   support\n\n       apple       0.62      1.00      0.76        13\n      banana       1.00      1.00      1.00        17\n   blackgram       0.75      0.94      0.83        16\n    chickpea       1.00      1.00      1.00        21\n     coconut       0.88      1.00      0.93        21\n      coffee       0.95      0.95      0.95        22\n      cotton       0.90      0.95      0.93        20\n      grapes       0.94      0.89      0.91        18\n        jute       0.84      0.96      0.90        28\n kidneybeans       1.00      1.00      1.00        14\n      lentil       0.96      1.00      0.98        23\n       maize       0.95      0.95      0.95        21\n       mango       0.96      1.00      0.98        26\n   mothbeans       1.00      0.74      0.85        19\n    mungbean       0.96      1.00      0.98        24\n   muskmelon       1.00      1.00      1.00        23\n      orange       0.95      0.69      0.80        29\n      papaya       1.00      0.74      0.85        19\n  pigeonpeas       0.94      0.89      0.91        18\n pomegranate       0.67      0.71      0.69        17\n        rice       0.92      0.69      0.79        16\n  watermelon       1.00      1.00      1.00        15\n\n    accuracy                           0.91       440\n   macro avg       0.92      0.91      0.91       440\nweighted avg       0.92      0.91      0.91       440\n\n"
          ]
        }
      ]
    },
    {
      "cell_type": "code",
      "metadata": {
        "id": "yycqL7gi7r7b",
        "outputId": "56f74ca2-969c-4341-85d0-5a2313dbe215",
        "colab": {
          "base_uri": "https://localhost:8080/"
        }
      },
      "source": [
        "predicted_values"
      ],
      "execution_count": 45,
      "outputs": [
        {
          "output_type": "execute_result",
          "data": {
            "text/plain": [
              "array(['coffee', 'apple', 'apple', 'cotton', 'mungbean', 'coffee',\n",
              "       'watermelon', 'coconut', 'pigeonpeas', 'mango', 'chickpea', 'jute',\n",
              "       'papaya', 'mothbeans', 'mango', 'maize', 'orange', 'blackgram',\n",
              "       'cotton', 'apple', 'banana', 'kidneybeans', 'muskmelon', 'banana',\n",
              "       'mango', 'kidneybeans', 'coconut', 'coconut', 'jute', 'mungbean',\n",
              "       'apple', 'chickpea', 'mungbean', 'mungbean', 'blackgram', 'coffee',\n",
              "       'cotton', 'muskmelon', 'blackgram', 'blackgram', 'papaya',\n",
              "       'pomegranate', 'pomegranate', 'jute', 'mothbeans', 'apple',\n",
              "       'pomegranate', 'mungbean', 'coffee', 'chickpea', 'coffee',\n",
              "       'blackgram', 'cotton', 'pigeonpeas', 'cotton', 'lentil',\n",
              "       'mungbean', 'banana', 'lentil', 'orange', 'jute', 'jute',\n",
              "       'pigeonpeas', 'cotton', 'pigeonpeas', 'grapes', 'grapes',\n",
              "       'pomegranate', 'coffee', 'maize', 'apple', 'pomegranate',\n",
              "       'chickpea', 'mango', 'banana', 'maize', 'banana', 'jute',\n",
              "       'pomegranate', 'mungbean', 'mango', 'banana', 'rice', 'mothbeans',\n",
              "       'banana', 'muskmelon', 'orange', 'maize', 'maize', 'coconut',\n",
              "       'rice', 'pomegranate', 'mango', 'apple', 'pomegranate',\n",
              "       'muskmelon', 'banana', 'maize', 'lentil', 'blackgram', 'muskmelon',\n",
              "       'apple', 'muskmelon', 'coffee', 'mungbean', 'jute', 'maize',\n",
              "       'pomegranate', 'lentil', 'orange', 'banana', 'chickpea', 'banana',\n",
              "       'coconut', 'apple', 'kidneybeans', 'chickpea', 'mothbeans',\n",
              "       'mango', 'banana', 'jute', 'rice', 'mungbean', 'watermelon',\n",
              "       'cotton', 'muskmelon', 'papaya', 'orange', 'orange', 'mungbean',\n",
              "       'coffee', 'muskmelon', 'jute', 'cotton', 'chickpea', 'coffee',\n",
              "       'coffee', 'lentil', 'maize', 'mothbeans', 'blackgram', 'coconut',\n",
              "       'apple', 'mango', 'mango', 'orange', 'rice', 'pigeonpeas',\n",
              "       'cotton', 'cotton', 'cotton', 'cotton', 'coconut', 'lentil',\n",
              "       'grapes', 'papaya', 'pigeonpeas', 'jute', 'orange', 'coffee',\n",
              "       'chickpea', 'mungbean', 'muskmelon', 'coconut', 'rice', 'rice',\n",
              "       'mungbean', 'mango', 'muskmelon', 'grapes', 'orange', 'pigeonpeas',\n",
              "       'chickpea', 'watermelon', 'kidneybeans', 'pigeonpeas',\n",
              "       'kidneybeans', 'papaya', 'grapes', 'mango', 'jute', 'mungbean',\n",
              "       'orange', 'watermelon', 'banana', 'cotton', 'jute', 'muskmelon',\n",
              "       'rice', 'coconut', 'grapes', 'coffee', 'papaya', 'lentil', 'mango',\n",
              "       'watermelon', 'apple', 'coconut', 'blackgram', 'mungbean',\n",
              "       'pomegranate', 'jute', 'apple', 'mothbeans', 'muskmelon',\n",
              "       'coconut', 'watermelon', 'maize', 'kidneybeans', 'watermelon',\n",
              "       'apple', 'rice', 'chickpea', 'watermelon', 'banana', 'mungbean',\n",
              "       'coconut', 'pomegranate', 'apple', 'maize', 'coffee', 'mungbean',\n",
              "       'mango', 'pigeonpeas', 'watermelon', 'orange', 'kidneybeans',\n",
              "       'blackgram', 'maize', 'lentil', 'watermelon', 'grapes', 'chickpea',\n",
              "       'papaya', 'jute', 'cotton', 'cotton', 'mothbeans', 'coffee',\n",
              "       'mungbean', 'banana', 'mungbean', 'lentil', 'muskmelon', 'mango',\n",
              "       'pigeonpeas', 'muskmelon', 'maize', 'apple', 'lentil', 'lentil',\n",
              "       'rice', 'blackgram', 'blackgram', 'jute', 'lentil', 'muskmelon',\n",
              "       'pigeonpeas', 'grapes', 'blackgram', 'pomegranate', 'kidneybeans',\n",
              "       'chickpea', 'apple', 'muskmelon', 'pigeonpeas', 'coffee', 'grapes',\n",
              "       'grapes', 'blackgram', 'banana', 'apple', 'cotton', 'coconut',\n",
              "       'mango', 'cotton', 'orange', 'watermelon', 'mothbeans', 'orange',\n",
              "       'banana', 'kidneybeans', 'coconut', 'maize', 'blackgram',\n",
              "       'mungbean', 'maize', 'mango', 'mungbean', 'mango', 'jute',\n",
              "       'mothbeans', 'rice', 'pigeonpeas', 'muskmelon', 'coffee', 'mango',\n",
              "       'mothbeans', 'banana', 'grapes', 'pomegranate', 'orange',\n",
              "       'chickpea', 'chickpea', 'orange', 'maize', 'pomegranate', 'jute',\n",
              "       'lentil', 'muskmelon', 'muskmelon', 'lentil', 'papaya', 'orange',\n",
              "       'lentil', 'maize', 'papaya', 'orange', 'chickpea', 'pomegranate',\n",
              "       'grapes', 'pomegranate', 'cotton', 'cotton', 'papaya', 'mango',\n",
              "       'mothbeans', 'muskmelon', 'kidneybeans', 'pigeonpeas', 'coconut',\n",
              "       'grapes', 'jute', 'muskmelon', 'mungbean', 'jute', 'pigeonpeas',\n",
              "       'coffee', 'cotton', 'orange', 'grapes', 'coconut', 'jute',\n",
              "       'lentil', 'mango', 'apple', 'watermelon', 'blackgram', 'chickpea',\n",
              "       'lentil', 'orange', 'chickpea', 'jute', 'mungbean', 'chickpea',\n",
              "       'coconut', 'jute', 'grapes', 'mothbeans', 'mothbeans',\n",
              "       'pomegranate', 'mungbean', 'jute', 'maize', 'mungbean',\n",
              "       'blackgram', 'watermelon', 'coconut', 'coconut', 'apple', 'grapes',\n",
              "       'blackgram', 'coffee', 'pomegranate', 'mango', 'maize', 'chickpea',\n",
              "       'coconut', 'jute', 'lentil', 'mango', 'cotton', 'muskmelon',\n",
              "       'chickpea', 'pigeonpeas', 'mango', 'coffee', 'kidneybeans',\n",
              "       'mango', 'blackgram', 'watermelon', 'rice', 'blackgram', 'lentil',\n",
              "       'papaya', 'rice', 'chickpea', 'coconut', 'jute', 'mango', 'coffee',\n",
              "       'jute', 'coconut', 'coconut', 'lentil', 'mothbeans', 'lentil',\n",
              "       'lentil', 'lentil', 'coffee', 'papaya', 'jute', 'grapes',\n",
              "       'kidneybeans', 'pigeonpeas', 'maize', 'maize', 'jute', 'mungbean',\n",
              "       'papaya', 'jute', 'coffee', 'orange', 'watermelon', 'blackgram',\n",
              "       'kidneybeans', 'coconut', 'maize', 'jute', 'papaya', 'jute',\n",
              "       'apple', 'mango', 'mango', 'apple', 'orange', 'muskmelon',\n",
              "       'lentil', 'kidneybeans', 'jute'], dtype=object)"
            ]
          },
          "metadata": {},
          "execution_count": 45
        }
      ]
    },
    {
      "cell_type": "code",
      "metadata": {
        "id": "n5AcHZnL8FT1",
        "outputId": "73820ee4-6c95-44fc-d5d2-436b8030cdec",
        "colab": {
          "base_uri": "https://localhost:8080/"
        }
      },
      "source": [
        "y_test"
      ],
      "execution_count": 46,
      "outputs": [
        {
          "output_type": "execute_result",
          "data": {
            "text/plain": [
              "2121         coffee\n",
              "960     pomegranate\n",
              "952     pomegranate\n",
              "1958         cotton\n",
              "681        mungbean\n",
              "           ...     \n",
              "1684         orange\n",
              "1477      muskmelon\n",
              "851          lentil\n",
              "370     kidneybeans\n",
              "2010           jute\n",
              "Name: label, Length: 440, dtype: object"
            ]
          },
          "metadata": {},
          "execution_count": 46
        }
      ]
    },
    {
      "cell_type": "code",
      "metadata": {
        "id": "wbLyu0Y18H0w"
      },
      "source": [
        "pickle.dump(regressor, open(\"modelrf.pkl\", \"wb\"))"
      ],
      "execution_count": 47,
      "outputs": []
    },
    {
      "cell_type": "code",
      "execution_count": 48,
      "metadata": {},
      "outputs": [
        {
          "output_type": "stream",
          "name": "stdout",
          "text": [
            "Python 3.8.5\n"
          ]
        }
      ],
      "source": [
        "!python --version"
      ]
    },
    {
      "cell_type": "code",
      "execution_count": null,
      "metadata": {},
      "outputs": [],
      "source": []
    }
  ]
}