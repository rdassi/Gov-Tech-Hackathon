{
  "nbformat": 4,
  "nbformat_minor": 0,
  "metadata": {
    "colab": {
      "name": "RFModel.ipynb",
      "provenance": []
    },
    "kernelspec": {
      "name": "python3",
      "display_name": "Python 3.8.5 64-bit ('env')",
      "metadata": {
        "interpreter": {
          "hash": "6af8fdb6867bcb59c2c1eb324ffdfb4df5fc89708df13d885f78fd005c111886"
        }
      }
    }
  },
  "cells": [
    {
      "cell_type": "code",
      "metadata": {
        "id": "4iiazjBS3SP7"
      },
      "source": [
        "import pandas as pd \n",
        "import numpy as np\n",
        "from sklearn.metrics import classification_report\n",
        "from sklearn import metrics\n",
        "from sklearn import tree\n",
        "from sklearn import preprocessing "
      ],
      "execution_count": 1,
      "outputs": []
    },
    {
      "cell_type": "code",
      "metadata": {
        "id": "Yt-Thvkb3V8z",
        "outputId": "6040e552-d0ac-4938-d441-f836041cca42",
        "colab": {
          "base_uri": "https://localhost:8080/"
        }
      },
      "source": [
        "# from google.colab import drive \n",
        "# drive.mount('/content/gdrive')"
      ],
      "execution_count": 2,
      "outputs": []
    },
    {
      "cell_type": "code",
      "metadata": {
        "id": "G5CGqsuE3aHB"
      },
      "source": [
        "# root_path= '/content/gdrive/My Drive/MergeFileCrop.csv'\n",
        "root_path='../data/Crop_recommendation.csv'\n",
        "otherfile='../data/indiaselected.csv'"
      ],
      "execution_count": 12,
      "outputs": []
    },
    {
      "cell_type": "code",
      "metadata": {
        "id": "5aMehYk332oT"
      },
      "source": [
        "df=pd.read_csv(root_path)\n",
        "of=pd.read_csv(otherfile)"
      ],
      "execution_count": 13,
      "outputs": []
    },
    {
      "cell_type": "code",
      "metadata": {
        "id": "5bXcJJhN38Q1",
        "outputId": "e8a4c414-5789-4429-e6c7-745772a8502b",
        "colab": {
          "base_uri": "https://localhost:8080/",
          "height": 204
        }
      },
      "source": [
        "df.head()"
      ],
      "execution_count": 14,
      "outputs": [
        {
          "output_type": "execute_result",
          "data": {
            "text/plain": [
              "    N   P   K  temperature   humidity        ph    rainfall label\n",
              "0  90  42  43    20.879744  82.002744  6.502985  202.935536  rice\n",
              "1  85  58  41    21.770462  80.319644  7.038096  226.655537  rice\n",
              "2  60  55  44    23.004459  82.320763  7.840207  263.964248  rice\n",
              "3  74  35  40    26.491096  80.158363  6.980401  242.864034  rice\n",
              "4  78  42  42    20.130175  81.604873  7.628473  262.717340  rice"
            ],
            "text/html": "<div>\n<style scoped>\n    .dataframe tbody tr th:only-of-type {\n        vertical-align: middle;\n    }\n\n    .dataframe tbody tr th {\n        vertical-align: top;\n    }\n\n    .dataframe thead th {\n        text-align: right;\n    }\n</style>\n<table border=\"1\" class=\"dataframe\">\n  <thead>\n    <tr style=\"text-align: right;\">\n      <th></th>\n      <th>N</th>\n      <th>P</th>\n      <th>K</th>\n      <th>temperature</th>\n      <th>humidity</th>\n      <th>ph</th>\n      <th>rainfall</th>\n      <th>label</th>\n    </tr>\n  </thead>\n  <tbody>\n    <tr>\n      <th>0</th>\n      <td>90</td>\n      <td>42</td>\n      <td>43</td>\n      <td>20.879744</td>\n      <td>82.002744</td>\n      <td>6.502985</td>\n      <td>202.935536</td>\n      <td>rice</td>\n    </tr>\n    <tr>\n      <th>1</th>\n      <td>85</td>\n      <td>58</td>\n      <td>41</td>\n      <td>21.770462</td>\n      <td>80.319644</td>\n      <td>7.038096</td>\n      <td>226.655537</td>\n      <td>rice</td>\n    </tr>\n    <tr>\n      <th>2</th>\n      <td>60</td>\n      <td>55</td>\n      <td>44</td>\n      <td>23.004459</td>\n      <td>82.320763</td>\n      <td>7.840207</td>\n      <td>263.964248</td>\n      <td>rice</td>\n    </tr>\n    <tr>\n      <th>3</th>\n      <td>74</td>\n      <td>35</td>\n      <td>40</td>\n      <td>26.491096</td>\n      <td>80.158363</td>\n      <td>6.980401</td>\n      <td>242.864034</td>\n      <td>rice</td>\n    </tr>\n    <tr>\n      <th>4</th>\n      <td>78</td>\n      <td>42</td>\n      <td>42</td>\n      <td>20.130175</td>\n      <td>81.604873</td>\n      <td>7.628473</td>\n      <td>262.717340</td>\n      <td>rice</td>\n    </tr>\n  </tbody>\n</table>\n</div>"
          },
          "metadata": {},
          "execution_count": 14
        }
      ]
    },
    {
      "cell_type": "code",
      "execution_count": 15,
      "metadata": {},
      "outputs": [
        {
          "output_type": "execute_result",
          "data": {
            "text/plain": [
              "array(['rice', 'banana', 'maize', 'grapes', 'mango', 'orange', 'papaya',\n",
              "       'jute', 'blackgram', 'coffee', 'lentil', 'apple'], dtype=object)"
            ]
          },
          "metadata": {},
          "execution_count": 15
        }
      ],
      "source": [
        "crops=of['Crop'].str.lower().unique()\n",
        "crops"
      ]
    },
    {
      "cell_type": "code",
      "execution_count": 16,
      "metadata": {},
      "outputs": [],
      "source": [
        "df1=df[df['label'].isin(crops)].reset_index(drop=True)"
      ]
    },
    {
      "cell_type": "code",
      "metadata": {
        "id": "JIJEt6Uk4Ipj"
      },
      "source": [
        "df2=df1.drop(columns=['ph'])\n",
        "le = preprocessing.LabelEncoder()\n",
        "# df['Crop']=le.fit_transform(df['Crop Type'])\n",
        "df2['Crop']=le.fit_transform(df2['label'])"
      ],
      "execution_count": 17,
      "outputs": []
    },
    {
      "cell_type": "code",
      "metadata": {
        "id": "6TImcMD75Zw6"
      },
      "source": [
        "df3=df2[df2['N']>0 & df2['P'] & df2['K']].reset_index(drop=True)\n",
        "crop_dic=dict(zip(df3['Crop'],df3['label']))\n",
        "pickle.dump(crop_dic, open(\"dictcrop.pkl\", \"wb\"))\n",
        "features = df3[['temperature', 'humidity','rainfall','Crop']]\n",
        "target1 = df3['N']\n",
        "target2=df3['P']\n",
        "target3=df3['K']\n",
        "df3.isna().any()\n"
      ],
      "execution_count": 18,
      "outputs": [
        {
          "output_type": "execute_result",
          "data": {
            "text/plain": [
              "N              False\n",
              "P              False\n",
              "K              False\n",
              "temperature    False\n",
              "humidity       False\n",
              "rainfall       False\n",
              "label          False\n",
              "Crop           False\n",
              "dtype: bool"
            ]
          },
          "metadata": {},
          "execution_count": 18
        }
      ]
    },
    {
      "cell_type": "code",
      "execution_count": 19,
      "metadata": {},
      "outputs": [
        {
          "output_type": "execute_result",
          "data": {
            "text/plain": [
              "        N   P   K  temperature   humidity    rainfall   label  Crop\n",
              "0      90  42  43    20.879744  82.002744  202.935536    rice    11\n",
              "1      85  58  41    21.770462  80.319644  226.655537    rice    11\n",
              "2      60  55  44    23.004459  82.320763  263.964248    rice    11\n",
              "3      74  35  40    26.491096  80.158363  242.864034    rice    11\n",
              "4      78  42  42    20.130175  81.604873  262.717340    rice    11\n",
              "...   ...  ..  ..          ...        ...         ...     ...   ...\n",
              "1180  107  34  32    26.774637  66.413269  177.774507  coffee     3\n",
              "1181   99  15  27    27.417112  56.636362  127.924610  coffee     3\n",
              "1182  118  33  30    24.131797  67.225123  173.322839  coffee     3\n",
              "1183  117  32  34    26.272418  52.127394  127.175293  coffee     3\n",
              "1184  104  18  30    23.603016  60.396475  140.937041  coffee     3\n",
              "\n",
              "[1185 rows x 8 columns]"
            ],
            "text/html": "<div>\n<style scoped>\n    .dataframe tbody tr th:only-of-type {\n        vertical-align: middle;\n    }\n\n    .dataframe tbody tr th {\n        vertical-align: top;\n    }\n\n    .dataframe thead th {\n        text-align: right;\n    }\n</style>\n<table border=\"1\" class=\"dataframe\">\n  <thead>\n    <tr style=\"text-align: right;\">\n      <th></th>\n      <th>N</th>\n      <th>P</th>\n      <th>K</th>\n      <th>temperature</th>\n      <th>humidity</th>\n      <th>rainfall</th>\n      <th>label</th>\n      <th>Crop</th>\n    </tr>\n  </thead>\n  <tbody>\n    <tr>\n      <th>0</th>\n      <td>90</td>\n      <td>42</td>\n      <td>43</td>\n      <td>20.879744</td>\n      <td>82.002744</td>\n      <td>202.935536</td>\n      <td>rice</td>\n      <td>11</td>\n    </tr>\n    <tr>\n      <th>1</th>\n      <td>85</td>\n      <td>58</td>\n      <td>41</td>\n      <td>21.770462</td>\n      <td>80.319644</td>\n      <td>226.655537</td>\n      <td>rice</td>\n      <td>11</td>\n    </tr>\n    <tr>\n      <th>2</th>\n      <td>60</td>\n      <td>55</td>\n      <td>44</td>\n      <td>23.004459</td>\n      <td>82.320763</td>\n      <td>263.964248</td>\n      <td>rice</td>\n      <td>11</td>\n    </tr>\n    <tr>\n      <th>3</th>\n      <td>74</td>\n      <td>35</td>\n      <td>40</td>\n      <td>26.491096</td>\n      <td>80.158363</td>\n      <td>242.864034</td>\n      <td>rice</td>\n      <td>11</td>\n    </tr>\n    <tr>\n      <th>4</th>\n      <td>78</td>\n      <td>42</td>\n      <td>42</td>\n      <td>20.130175</td>\n      <td>81.604873</td>\n      <td>262.717340</td>\n      <td>rice</td>\n      <td>11</td>\n    </tr>\n    <tr>\n      <th>...</th>\n      <td>...</td>\n      <td>...</td>\n      <td>...</td>\n      <td>...</td>\n      <td>...</td>\n      <td>...</td>\n      <td>...</td>\n      <td>...</td>\n    </tr>\n    <tr>\n      <th>1180</th>\n      <td>107</td>\n      <td>34</td>\n      <td>32</td>\n      <td>26.774637</td>\n      <td>66.413269</td>\n      <td>177.774507</td>\n      <td>coffee</td>\n      <td>3</td>\n    </tr>\n    <tr>\n      <th>1181</th>\n      <td>99</td>\n      <td>15</td>\n      <td>27</td>\n      <td>27.417112</td>\n      <td>56.636362</td>\n      <td>127.924610</td>\n      <td>coffee</td>\n      <td>3</td>\n    </tr>\n    <tr>\n      <th>1182</th>\n      <td>118</td>\n      <td>33</td>\n      <td>30</td>\n      <td>24.131797</td>\n      <td>67.225123</td>\n      <td>173.322839</td>\n      <td>coffee</td>\n      <td>3</td>\n    </tr>\n    <tr>\n      <th>1183</th>\n      <td>117</td>\n      <td>32</td>\n      <td>34</td>\n      <td>26.272418</td>\n      <td>52.127394</td>\n      <td>127.175293</td>\n      <td>coffee</td>\n      <td>3</td>\n    </tr>\n    <tr>\n      <th>1184</th>\n      <td>104</td>\n      <td>18</td>\n      <td>30</td>\n      <td>23.603016</td>\n      <td>60.396475</td>\n      <td>140.937041</td>\n      <td>coffee</td>\n      <td>3</td>\n    </tr>\n  </tbody>\n</table>\n<p>1185 rows × 8 columns</p>\n</div>"
          },
          "metadata": {},
          "execution_count": 19
        }
      ],
      "source": [
        "df3"
      ]
    },
    {
      "cell_type": "code",
      "execution_count": 11,
      "metadata": {},
      "outputs": [
        {
          "output_type": "error",
          "ename": "NameError",
          "evalue": "name 'features' is not defined",
          "traceback": [
            "\u001b[0;31m---------------------------------------------------------------------------\u001b[0m",
            "\u001b[0;31mNameError\u001b[0m                                 Traceback (most recent call last)",
            "\u001b[0;32m<ipython-input-11-0e3bf7c43423>\u001b[0m in \u001b[0;36m<module>\u001b[0;34m\u001b[0m\n\u001b[1;32m      3\u001b[0m \u001b[0mscalerfile\u001b[0m \u001b[0;34m=\u001b[0m \u001b[0;34m'scalernpk.sav'\u001b[0m\u001b[0;34m\u001b[0m\u001b[0;34m\u001b[0m\u001b[0m\n\u001b[1;32m      4\u001b[0m \u001b[0mscaler\u001b[0m \u001b[0;34m=\u001b[0m \u001b[0mStandardScaler\u001b[0m\u001b[0;34m(\u001b[0m\u001b[0;34m)\u001b[0m\u001b[0;34m\u001b[0m\u001b[0;34m\u001b[0m\u001b[0m\n\u001b[0;32m----> 5\u001b[0;31m \u001b[0mscaler\u001b[0m\u001b[0;34m.\u001b[0m\u001b[0mfit\u001b[0m\u001b[0;34m(\u001b[0m\u001b[0mfeatures\u001b[0m\u001b[0;34m)\u001b[0m\u001b[0;34m\u001b[0m\u001b[0;34m\u001b[0m\u001b[0m\n\u001b[0m\u001b[1;32m      6\u001b[0m \u001b[0mpickle\u001b[0m\u001b[0;34m.\u001b[0m\u001b[0mdump\u001b[0m\u001b[0;34m(\u001b[0m\u001b[0mscaler\u001b[0m\u001b[0;34m,\u001b[0m \u001b[0mopen\u001b[0m\u001b[0;34m(\u001b[0m\u001b[0mscalerfile\u001b[0m\u001b[0;34m,\u001b[0m \u001b[0;34m'wb'\u001b[0m\u001b[0;34m)\u001b[0m\u001b[0;34m)\u001b[0m\u001b[0;34m\u001b[0m\u001b[0;34m\u001b[0m\u001b[0m\n\u001b[1;32m      7\u001b[0m \u001b[0mscaled\u001b[0m\u001b[0;34m=\u001b[0m\u001b[0mscaler\u001b[0m\u001b[0;34m.\u001b[0m\u001b[0mtransform\u001b[0m\u001b[0;34m(\u001b[0m\u001b[0mfeatures\u001b[0m\u001b[0;34m)\u001b[0m\u001b[0;34m\u001b[0m\u001b[0;34m\u001b[0m\u001b[0m\n",
            "\u001b[0;31mNameError\u001b[0m: name 'features' is not defined"
          ]
        }
      ],
      "source": [
        "import pickle\n",
        "from sklearn.preprocessing import StandardScaler\n",
        "scalerfile = 'scalernpk.sav'\n",
        "scaler = StandardScaler()\n",
        "scaler.fit(features)\n",
        "pickle.dump(scaler, open(scalerfile, 'wb'))\n",
        "scaled=scaler.transform(features)"
      ]
    },
    {
      "cell_type": "code",
      "metadata": {
        "id": "WwBSyLJD5ptY"
      },
      "source": [
        "from sklearn.model_selection import train_test_split\n",
        "X_train1, X_test1, y_train1, y_test1 = train_test_split(scaled,np.log(target1),test_size = 0.2,random_state =2)\n",
        "X_train2, X_test2, y_train2, y_test2 = train_test_split(scaled,np.log(target2),test_size = 0.2,random_state =2)\n",
        "X_train3, X_test3, y_train3, y_test3 = train_test_split(scaled,np.log(target3),test_size = 0.2,random_state =2)"
      ],
      "execution_count": 26,
      "outputs": []
    },
    {
      "cell_type": "code",
      "metadata": {
        "id": "EkfojnAt6ANh",
        "tags": []
      },
      "source": [
        "from sklearn.ensemble import GradientBoostingRegressor\n",
        "\n",
        "regressor1 = GradientBoostingRegressor(random_state=0)\n",
        "regressor1.fit(X_train1,y_train1)\n",
        "regressor2 = GradientBoostingRegressor(random_state=0)\n",
        "regressor2.fit(X_train2,y_train2)\n",
        "regressor3 = GradientBoostingRegressor(random_state=0)\n",
        "regressor3.fit(X_train3,y_train3)\n",
        "predicted_valuesn = regressor1.predict(X_test1)\n",
        "predicted_valuesp = regressor2.predict(X_test2)\n",
        "predicted_valuesk = regressor3.predict(X_test3)\n",
        "\n",
        "print(y_test1)\n",
        "    "
      ],
      "execution_count": 39,
      "outputs": [
        {
          "output_type": "stream",
          "name": "stdout",
          "text": [
            "1041    4.276666\n862     3.610918\n511     3.610918\n327     1.791759\n842     2.484907\n          ...   \n836     0.000000\n451     4.672829\n318     3.091042\n884     3.433987\n641     3.663562\nName: N, Length: 237, dtype: float64\n"
          ]
        }
      ]
    },
    {
      "cell_type": "code",
      "execution_count": 42,
      "metadata": {},
      "outputs": [
        {
          "output_type": "stream",
          "name": "stdout",
          "text": [
            "[4.26813911 2.33492124 2.67410408 3.24290711 3.06222954 4.35691249\n 4.66281596 4.36744319 2.92489698 2.8069665  3.26301994 2.74187717\n 4.50811925 3.69131603 4.63186061 3.53647399 4.26147761 4.35691249\n 3.0530411  3.93389247 2.74696052 4.21550371 3.20141227 3.45764239\n 4.20927401 3.52201087 3.00503867 2.78943799 4.45884315 4.28497958\n 3.62095457 3.71949164 2.71812767 3.27527336 4.66281596 3.12199185\n 3.41497946 4.34802366 2.60196544 4.41355024 2.70805445 4.36485103\n 3.69860576 4.50823709 2.84760906 2.23300541 2.7571532  3.24724176\n 3.96567094 3.19207389 3.12199185 4.41902707 3.82461292 2.99773191\n 4.34802366 3.08435073 2.96307145 4.36485103 3.02183756 4.36485103\n 4.50312954 3.63832512 2.79441836 4.42306669 4.51808702 2.73288503\n 2.80932887 4.3518093  4.53779    4.41355024 4.35691249 4.45413847\n 3.28850474 3.09400822 1.80672842 4.43295608 2.68378628 4.3807964\n 2.58109452 3.970707   3.04938376 3.78762561 3.73633558 3.58755\n 2.78464779 3.78092225 3.18160409 4.37373986 4.3807964  3.35676362\n 3.70613664 2.7418815  4.36744319 4.50312954 3.63613476 4.5227917\n 4.28497958 4.60492783 3.6148948  4.41355024 2.23998144 2.7571532\n 4.41355024 3.31172886 4.39672286 4.18698914 3.86983308 2.86672591\n 4.42306669 3.88640651 3.93469573 4.5720678  3.88729869 4.63186061\n 4.32231556 2.69172887 3.6148948  3.22534574 4.25745223 4.18292324\n 2.94277216 3.18805906 3.01823941 4.21943786 3.09246953 2.83773101\n 3.11857739 3.04944931 3.58755    3.65423592 2.97742845 2.89123131\n 2.96993045 2.91744303 4.39672286 4.42306669 1.84110262 3.19207389\n 4.18698914 1.84110262 4.66047432 2.87674177 4.50312954 4.40077176\n 4.18698914 3.594409   2.85323158 3.13467532 2.69401356 3.6148948\n 4.50823709 4.5446474  4.32231556 2.96210294 3.88640651 4.50312954\n 2.8322472  2.84222929 4.43295608 4.38250457 3.69131603 4.63698318\n 3.63867052 4.18698914 4.37373986 4.17016177 4.51808702 2.57220784\n 4.04260532 2.92940829 4.34405964 2.7867574  2.99894637 3.10235494\n 3.82154385 4.48755785 4.23916511 3.27527336 2.80361931 3.10810342\n 3.26339291 4.51808702 3.18931819 3.67766625 3.37151221 4.41355024\n 4.66281596 3.55695979 4.43842259 4.25599248 4.43295608 2.89796041\n 4.5227917  4.3807964  3.74070997 3.12888311 3.25017652 3.594409\n 4.3666604  4.50312954 2.92238075 4.25599248 3.00735529 4.41355024\n 2.73288503 3.68855147 3.60103594 4.64975633 2.65699783 2.67094623\n 3.88640651 4.15873675 4.37373986 4.51808702 2.08059688 3.86684779\n 4.41677001 2.94277216 4.36485103 2.67041907 4.54660159 2.88675872\n 3.2213676  3.20091651 4.37447404 2.31590378 4.36485103 3.0036722\n 2.65833126 2.8322472  4.41677001 3.9075896  3.22705562 4.59806883\n 3.19901793 2.62809015 3.14164128]\n"
          ]
        }
      ],
      "source": [
        "print(predicted_valuesn)"
      ]
    },
    {
      "cell_type": "code",
      "metadata": {
        "id": "wbLyu0Y18H0w"
      },
      "source": [
        "pickle.dump(regressor1, open(\"modelngb.pkl\", \"wb\"))\n",
        "pickle.dump(regressor2, open(\"modelpgb.pkl\", \"wb\"))\n",
        "pickle.dump(regressor3, open(\"modelkgb.pkl\", \"wb\"))"
      ],
      "execution_count": 44,
      "outputs": []
    },
    {
      "cell_type": "code",
      "execution_count": 48,
      "metadata": {},
      "outputs": [
        {
          "output_type": "stream",
          "name": "stdout",
          "text": [
            "Python 3.8.5\n"
          ]
        }
      ],
      "source": [
        "!python --version"
      ]
    },
    {
      "cell_type": "code",
      "execution_count": null,
      "metadata": {},
      "outputs": [],
      "source": []
    }
  ]
}