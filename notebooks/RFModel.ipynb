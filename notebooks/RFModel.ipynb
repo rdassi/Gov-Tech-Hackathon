{
  "nbformat": 4,
  "nbformat_minor": 0,
  "metadata": {
    "colab": {
      "name": "RFModel.ipynb",
      "provenance": []
    },
    "kernelspec": {
      "name": "python3",
      "display_name": "Python 3.8.5 64-bit ('env')",
      "metadata": {
        "interpreter": {
          "hash": "6af8fdb6867bcb59c2c1eb324ffdfb4df5fc89708df13d885f78fd005c111886"
        }
      }
    }
  },
  "cells": [
    {
      "cell_type": "code",
      "metadata": {
        "id": "4iiazjBS3SP7"
      },
      "source": [
        "import pandas as pd \n",
        "import numpy as np\n",
        "from sklearn.metrics import classification_report\n",
        "from sklearn import metrics\n",
        "from sklearn import tree"
      ],
      "execution_count": 1,
      "outputs": []
    },
    {
      "cell_type": "code",
      "metadata": {
        "id": "Yt-Thvkb3V8z",
        "outputId": "6040e552-d0ac-4938-d441-f836041cca42",
        "colab": {
          "base_uri": "https://localhost:8080/"
        }
      },
      "source": [
        "# from google.colab import drive \n",
        "# drive.mount('/content/gdrive')"
      ],
      "execution_count": 34,
      "outputs": []
    },
    {
      "cell_type": "code",
      "metadata": {
        "id": "G5CGqsuE3aHB"
      },
      "source": [
        "# root_path= '/content/gdrive/My Drive/MergeFileCrop.csv'\n",
        "root_path='MergeFileCrop.csv'\n",
        "otherfile='indiaselected.csv'"
      ],
      "execution_count": 2,
      "outputs": []
    },
    {
      "cell_type": "code",
      "metadata": {
        "id": "5aMehYk332oT"
      },
      "source": [
        "df=pd.read_csv(root_path)\n",
        "of=pd.read_csv(otherfile)"
      ],
      "execution_count": 3,
      "outputs": []
    },
    {
      "cell_type": "code",
      "metadata": {
        "id": "5bXcJJhN38Q1",
        "outputId": "e8a4c414-5789-4429-e6c7-745772a8502b",
        "colab": {
          "base_uri": "https://localhost:8080/",
          "height": 204
        }
      },
      "source": [
        "df.head()"
      ],
      "execution_count": 37,
      "outputs": [
        {
          "output_type": "execute_result",
          "data": {
            "text/plain": [
              "   Unnamed: 0  temperature   humidity        ph    rainfall label\n",
              "0           0    20.879744  82.002744  6.502985  202.935536  rice\n",
              "1           1    21.770462  80.319644  7.038096  226.655537  rice\n",
              "2           2    23.004459  82.320763  7.840207  263.964248  rice\n",
              "3           3    26.491096  80.158363  6.980401  242.864034  rice\n",
              "4           4    20.130175  81.604873  7.628473  262.717340  rice"
            ],
            "text/html": "<div>\n<style scoped>\n    .dataframe tbody tr th:only-of-type {\n        vertical-align: middle;\n    }\n\n    .dataframe tbody tr th {\n        vertical-align: top;\n    }\n\n    .dataframe thead th {\n        text-align: right;\n    }\n</style>\n<table border=\"1\" class=\"dataframe\">\n  <thead>\n    <tr style=\"text-align: right;\">\n      <th></th>\n      <th>Unnamed: 0</th>\n      <th>temperature</th>\n      <th>humidity</th>\n      <th>ph</th>\n      <th>rainfall</th>\n      <th>label</th>\n    </tr>\n  </thead>\n  <tbody>\n    <tr>\n      <th>0</th>\n      <td>0</td>\n      <td>20.879744</td>\n      <td>82.002744</td>\n      <td>6.502985</td>\n      <td>202.935536</td>\n      <td>rice</td>\n    </tr>\n    <tr>\n      <th>1</th>\n      <td>1</td>\n      <td>21.770462</td>\n      <td>80.319644</td>\n      <td>7.038096</td>\n      <td>226.655537</td>\n      <td>rice</td>\n    </tr>\n    <tr>\n      <th>2</th>\n      <td>2</td>\n      <td>23.004459</td>\n      <td>82.320763</td>\n      <td>7.840207</td>\n      <td>263.964248</td>\n      <td>rice</td>\n    </tr>\n    <tr>\n      <th>3</th>\n      <td>3</td>\n      <td>26.491096</td>\n      <td>80.158363</td>\n      <td>6.980401</td>\n      <td>242.864034</td>\n      <td>rice</td>\n    </tr>\n    <tr>\n      <th>4</th>\n      <td>4</td>\n      <td>20.130175</td>\n      <td>81.604873</td>\n      <td>7.628473</td>\n      <td>262.717340</td>\n      <td>rice</td>\n    </tr>\n  </tbody>\n</table>\n</div>"
          },
          "metadata": {},
          "execution_count": 37
        }
      ]
    },
    {
      "cell_type": "code",
      "execution_count": 5,
      "metadata": {},
      "outputs": [
        {
          "output_type": "execute_result",
          "data": {
            "text/plain": [
              "array(['rice', 'banana', 'maize', 'grapes', 'mango', 'orange', 'papaya',\n",
              "       'jute', 'blackgram', 'coffee', 'lentil', 'apple'], dtype=object)"
            ]
          },
          "metadata": {},
          "execution_count": 5
        }
      ],
      "source": [
        "crops=of['Crop'].str.lower().unique()\n",
        "crops"
      ]
    },
    {
      "cell_type": "code",
      "execution_count": 7,
      "metadata": {},
      "outputs": [],
      "source": [
        "df1=df[df['label'].isin(crops)].reset_index(drop=True)"
      ]
    },
    {
      "cell_type": "code",
      "metadata": {
        "id": "JIJEt6Uk4Ipj"
      },
      "source": [
        "df2=df1.drop(columns=['Unnamed: 0','ph'])"
      ],
      "execution_count": 8,
      "outputs": []
    },
    {
      "cell_type": "code",
      "metadata": {
        "id": "6TImcMD75Zw6"
      },
      "source": [
        "features = df2[['temperature', 'humidity','rainfall']]\n",
        "target = df2['label']\n",
        "features.isna().any()\n"
      ],
      "execution_count": 9,
      "outputs": [
        {
          "output_type": "execute_result",
          "data": {
            "text/plain": [
              "temperature    False\n",
              "humidity       False\n",
              "rainfall       False\n",
              "dtype: bool"
            ]
          },
          "metadata": {},
          "execution_count": 9
        }
      ]
    },
    {
      "cell_type": "code",
      "execution_count": 10,
      "metadata": {},
      "outputs": [],
      "source": [
        "import pickle\n",
        "from sklearn.preprocessing import StandardScaler\n",
        "scalerfile = 'scalerrf.sav'\n",
        "scaler = StandardScaler()\n",
        "scaler.fit(features)\n",
        "pickle.dump(scaler, open(scalerfile, 'wb'))\n",
        "scaled=scaler.transform(features)"
      ]
    },
    {
      "cell_type": "code",
      "metadata": {
        "id": "WwBSyLJD5ptY"
      },
      "source": [
        "from sklearn.model_selection import train_test_split\n",
        "X_train, X_test, y_train, y_test = train_test_split(scaled,target,test_size = 0.2,random_state =2)"
      ],
      "execution_count": 11,
      "outputs": []
    },
    {
      "cell_type": "code",
      "metadata": {
        "id": "EkfojnAt6ANh"
      },
      "source": [
        "from sklearn.ensemble import RandomForestClassifier\n",
        "\n",
        "regressor = RandomForestClassifier(n_estimators=20, random_state=0)\n",
        "regressor.fit(X_train,y_train)\n",
        "\n",
        "predicted_values = regressor.predict(X_test)\n",
        "\n",
        "x = metrics.accuracy_score(y_test, predicted_values)"
      ],
      "execution_count": 12,
      "outputs": []
    },
    {
      "cell_type": "code",
      "metadata": {
        "id": "O9aSG6OM6Wkh",
        "outputId": "61ed41c9-6ed5-44ba-e156-06fbd08004a8",
        "colab": {
          "base_uri": "https://localhost:8080/"
        }
      },
      "source": [
        "x"
      ],
      "execution_count": 13,
      "outputs": [
        {
          "output_type": "execute_result",
          "data": {
            "text/plain": [
              "0.9583333333333334"
            ]
          },
          "metadata": {},
          "execution_count": 13
        }
      ]
    },
    {
      "cell_type": "code",
      "metadata": {
        "id": "IgbP-kId6XgL",
        "outputId": "7c03f1fe-d306-44bd-e305-57d20296abae",
        "colab": {
          "base_uri": "https://localhost:8080/"
        }
      },
      "source": [
        "print(classification_report(y_test,predicted_values))"
      ],
      "execution_count": 14,
      "outputs": [
        {
          "output_type": "stream",
          "name": "stdout",
          "text": [
            "              precision    recall  f1-score   support\n\n       apple       0.86      0.95      0.90        20\n      banana       0.97      1.00      0.98        28\n   blackgram       1.00      0.91      0.95        22\n      coffee       1.00      0.94      0.97        16\n      grapes       1.00      1.00      1.00        20\n        jute       0.91      1.00      0.95        21\n      lentil       1.00      1.00      1.00        20\n       maize       0.89      1.00      0.94        16\n       mango       1.00      1.00      1.00        21\n      orange       0.92      0.75      0.83        16\n      papaya       0.95      1.00      0.98        21\n        rice       1.00      0.89      0.94        19\n\n    accuracy                           0.96       240\n   macro avg       0.96      0.95      0.95       240\nweighted avg       0.96      0.96      0.96       240\n\n"
          ]
        }
      ]
    },
    {
      "cell_type": "code",
      "metadata": {
        "id": "yycqL7gi7r7b",
        "outputId": "56f74ca2-969c-4341-85d0-5a2313dbe215",
        "colab": {
          "base_uri": "https://localhost:8080/"
        }
      },
      "source": [
        "predicted_values"
      ],
      "execution_count": 15,
      "outputs": [
        {
          "output_type": "execute_result",
          "data": {
            "text/plain": [
              "array(['jute', 'banana', 'rice', 'papaya', 'rice', 'coffee', 'grapes',\n",
              "       'jute', 'apple', 'papaya', 'maize', 'blackgram', 'orange',\n",
              "       'papaya', 'apple', 'blackgram', 'blackgram', 'papaya', 'apple',\n",
              "       'lentil', 'coffee', 'banana', 'grapes', 'papaya', 'maize', 'jute',\n",
              "       'banana', 'lentil', 'blackgram', 'rice', 'orange', 'apple',\n",
              "       'coffee', 'mango', 'grapes', 'jute', 'banana', 'coffee', 'papaya',\n",
              "       'mango', 'papaya', 'lentil', 'grapes', 'lentil', 'jute', 'grapes',\n",
              "       'papaya', 'banana', 'lentil', 'banana', 'lentil', 'orange', 'jute',\n",
              "       'grapes', 'blackgram', 'lentil', 'apple', 'maize', 'banana',\n",
              "       'jute', 'orange', 'banana', 'jute', 'blackgram', 'coffee', 'jute',\n",
              "       'mango', 'orange', 'banana', 'papaya', 'lentil', 'mango', 'mango',\n",
              "       'jute', 'banana', 'banana', 'rice', 'mango', 'papaya', 'lentil',\n",
              "       'apple', 'papaya', 'coffee', 'rice', 'rice', 'mango', 'orange',\n",
              "       'papaya', 'grapes', 'jute', 'mango', 'lentil', 'papaya', 'mango',\n",
              "       'rice', 'coffee', 'blackgram', 'orange', 'jute', 'mango', 'mango',\n",
              "       'apple', 'papaya', 'blackgram', 'grapes', 'lentil', 'rice', 'rice',\n",
              "       'maize', 'maize', 'lentil', 'blackgram', 'blackgram', 'papaya',\n",
              "       'blackgram', 'orange', 'orange', 'maize', 'maize', 'blackgram',\n",
              "       'blackgram', 'coffee', 'apple', 'grapes', 'lentil', 'jute',\n",
              "       'maize', 'jute', 'lentil', 'papaya', 'blackgram', 'grapes',\n",
              "       'maize', 'lentil', 'apple', 'mango', 'apple', 'blackgram', 'apple',\n",
              "       'banana', 'apple', 'orange', 'banana', 'grapes', 'rice', 'mango',\n",
              "       'grapes', 'maize', 'apple', 'apple', 'papaya', 'grapes', 'banana',\n",
              "       'papaya', 'maize', 'mango', 'grapes', 'jute', 'banana',\n",
              "       'blackgram', 'banana', 'grapes', 'jute', 'maize', 'lentil',\n",
              "       'coffee', 'grapes', 'grapes', 'grapes', 'jute', 'rice', 'lentil',\n",
              "       'jute', 'mango', 'apple', 'maize', 'rice', 'banana', 'mango',\n",
              "       'apple', 'banana', 'apple', 'rice', 'lentil', 'banana',\n",
              "       'blackgram', 'apple', 'banana', 'maize', 'papaya', 'banana',\n",
              "       'grapes', 'mango', 'banana', 'banana', 'blackgram', 'coffee',\n",
              "       'coffee', 'banana', 'maize', 'blackgram', 'banana', 'maize',\n",
              "       'jute', 'jute', 'orange', 'rice', 'coffee', 'jute', 'orange',\n",
              "       'mango', 'jute', 'rice', 'coffee', 'mango', 'maize', 'banana',\n",
              "       'lentil', 'lentil', 'apple', 'papaya', 'papaya', 'orange', 'mango',\n",
              "       'apple', 'papaya', 'coffee', 'rice', 'mango', 'apple', 'maize',\n",
              "       'apple', 'rice', 'banana', 'jute', 'coffee', 'banana', 'grapes',\n",
              "       'blackgram', 'banana'], dtype=object)"
            ]
          },
          "metadata": {},
          "execution_count": 15
        }
      ]
    },
    {
      "cell_type": "code",
      "metadata": {
        "id": "n5AcHZnL8FT1",
        "outputId": "73820ee4-6c95-44fc-d5d2-436b8030cdec",
        "colab": {
          "base_uri": "https://localhost:8080/"
        }
      },
      "source": [
        "y_test"
      ],
      "execution_count": 16,
      "outputs": [
        {
          "output_type": "execute_result",
          "data": {
            "text/plain": [
              "1049         jute\n",
              "476        banana\n",
              "61           rice\n",
              "910        papaya\n",
              "68           rice\n",
              "          ...    \n",
              "1180       coffee\n",
              "402        banana\n",
              "601        grapes\n",
              "286     blackgram\n",
              "492        banana\n",
              "Name: label, Length: 240, dtype: object"
            ]
          },
          "metadata": {},
          "execution_count": 16
        }
      ]
    },
    {
      "cell_type": "code",
      "metadata": {
        "id": "wbLyu0Y18H0w"
      },
      "source": [
        "pickle.dump(regressor, open(\"modelrf.pkl\", \"wb\"))"
      ],
      "execution_count": 17,
      "outputs": []
    },
    {
      "cell_type": "code",
      "execution_count": 48,
      "metadata": {},
      "outputs": [
        {
          "output_type": "stream",
          "name": "stdout",
          "text": [
            "Python 3.8.5\n"
          ]
        }
      ],
      "source": [
        "!python --version"
      ]
    },
    {
      "cell_type": "code",
      "execution_count": null,
      "metadata": {},
      "outputs": [],
      "source": []
    }
  ]
}