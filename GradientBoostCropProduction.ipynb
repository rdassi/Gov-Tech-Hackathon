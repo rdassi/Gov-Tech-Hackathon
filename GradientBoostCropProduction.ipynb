{
  "nbformat": 4,
  "nbformat_minor": 0,
  "metadata": {
    "colab": {
      "name": "GradientBoostCropProduction.ipynb",
      "provenance": []
    },
    "kernelspec": {
      "name": "python3",
      "display_name": "Python 3.8.5 64-bit ('env')",
      "metadata": {
        "interpreter": {
          "hash": "6af8fdb6867bcb59c2c1eb324ffdfb4df5fc89708df13d885f78fd005c111886"
        }
      }
    }
  },
  "cells": [
    {
      "cell_type": "code",
      "metadata": {
        "id": "S-ogToEN4L4u"
      },
      "source": [
        "import pandas as pd\n",
        "import numpy as np\n",
        "\n",
        "# data=pd.read_csv('/content/apy.csv')\n",
        "f=pd.read_csv('apy.csv')\n",
        "weatherdata=pd.read_csv('MergeFileCrop.csv')"
      ],
      "execution_count": 97,
      "outputs": []
    },
    {
      "cell_type": "code",
      "metadata": {
        "id": "ecFR8iez5Ni7",
        "outputId": "7e36c535-df79-4d20-f34b-fefc669d5fc3",
        "colab": {
          "base_uri": "https://localhost:8080/",
          "height": 204
        }
      },
      "source": [
        "f.head()"
      ],
      "execution_count": 98,
      "outputs": [
        {
          "output_type": "execute_result",
          "data": {
            "text/plain": [
              "                    State_Name District_Name  Crop_Year       Season  \\\n",
              "0  Andaman and Nicobar Islands      NICOBARS       2000  Kharif        \n",
              "1  Andaman and Nicobar Islands      NICOBARS       2000  Kharif        \n",
              "2  Andaman and Nicobar Islands      NICOBARS       2000  Kharif        \n",
              "3  Andaman and Nicobar Islands      NICOBARS       2000  Whole Year    \n",
              "4  Andaman and Nicobar Islands      NICOBARS       2000  Whole Year    \n",
              "\n",
              "                  Crop    Area  Production  \n",
              "0             Arecanut  1254.0      2000.0  \n",
              "1  Other Kharif pulses     2.0         1.0  \n",
              "2                 Rice   102.0       321.0  \n",
              "3               Banana   176.0       641.0  \n",
              "4            Cashewnut   720.0       165.0  "
            ],
            "text/html": "<div>\n<style scoped>\n    .dataframe tbody tr th:only-of-type {\n        vertical-align: middle;\n    }\n\n    .dataframe tbody tr th {\n        vertical-align: top;\n    }\n\n    .dataframe thead th {\n        text-align: right;\n    }\n</style>\n<table border=\"1\" class=\"dataframe\">\n  <thead>\n    <tr style=\"text-align: right;\">\n      <th></th>\n      <th>State_Name</th>\n      <th>District_Name</th>\n      <th>Crop_Year</th>\n      <th>Season</th>\n      <th>Crop</th>\n      <th>Area</th>\n      <th>Production</th>\n    </tr>\n  </thead>\n  <tbody>\n    <tr>\n      <th>0</th>\n      <td>Andaman and Nicobar Islands</td>\n      <td>NICOBARS</td>\n      <td>2000</td>\n      <td>Kharif</td>\n      <td>Arecanut</td>\n      <td>1254.0</td>\n      <td>2000.0</td>\n    </tr>\n    <tr>\n      <th>1</th>\n      <td>Andaman and Nicobar Islands</td>\n      <td>NICOBARS</td>\n      <td>2000</td>\n      <td>Kharif</td>\n      <td>Other Kharif pulses</td>\n      <td>2.0</td>\n      <td>1.0</td>\n    </tr>\n    <tr>\n      <th>2</th>\n      <td>Andaman and Nicobar Islands</td>\n      <td>NICOBARS</td>\n      <td>2000</td>\n      <td>Kharif</td>\n      <td>Rice</td>\n      <td>102.0</td>\n      <td>321.0</td>\n    </tr>\n    <tr>\n      <th>3</th>\n      <td>Andaman and Nicobar Islands</td>\n      <td>NICOBARS</td>\n      <td>2000</td>\n      <td>Whole Year</td>\n      <td>Banana</td>\n      <td>176.0</td>\n      <td>641.0</td>\n    </tr>\n    <tr>\n      <th>4</th>\n      <td>Andaman and Nicobar Islands</td>\n      <td>NICOBARS</td>\n      <td>2000</td>\n      <td>Whole Year</td>\n      <td>Cashewnut</td>\n      <td>720.0</td>\n      <td>165.0</td>\n    </tr>\n  </tbody>\n</table>\n</div>"
          },
          "metadata": {},
          "execution_count": 98
        }
      ]
    },
    {
      "cell_type": "code",
      "execution_count": 99,
      "metadata": {},
      "outputs": [
        {
          "output_type": "execute_result",
          "data": {
            "text/plain": [
              "array(['rice', 'maize', 'chickpea', 'kidneybeans', 'pigeonpeas',\n",
              "       'mothbeans', 'mungbean', 'blackgram', 'lentil', 'pomegranate',\n",
              "       'banana', 'mango', 'grapes', 'watermelon', 'muskmelon', 'apple',\n",
              "       'orange', 'papaya', 'coconut', 'cotton', 'jute', 'coffee'],\n",
              "      dtype=object)"
            ]
          },
          "metadata": {},
          "execution_count": 99
        }
      ],
      "source": [
        "wcrops=pd.unique(weatherdata['label'])\n",
        "wcrops"
      ]
    },
    {
      "cell_type": "code",
      "metadata": {
        "id": "26ybgj--5Qku",
        "outputId": "8a341643-2c94-4770-f447-2a0f3163d0e8",
        "colab": {
          "base_uri": "https://localhost:8080/"
        }
      },
      "source": [
        "crops=f['Crop'].str.lower().unique()\n",
        "crops"
      ],
      "execution_count": 100,
      "outputs": [
        {
          "output_type": "execute_result",
          "data": {
            "text/plain": [
              "array(['arecanut', 'other kharif pulses', 'rice', 'banana', 'cashewnut',\n",
              "       'coconut ', 'dry ginger', 'sugarcane', 'sweet potato', 'tapioca',\n",
              "       'black pepper', 'dry chillies', 'other oilseeds', 'turmeric',\n",
              "       'maize', 'moong(green gram)', 'urad', 'arhar/tur', 'groundnut',\n",
              "       'sunflower', 'bajra', 'castor seed', 'cotton(lint)', 'horse-gram',\n",
              "       'jowar', 'korra', 'ragi', 'tobacco', 'gram', 'wheat', 'masoor',\n",
              "       'sesamum', 'linseed', 'safflower', 'onion', 'other misc. pulses',\n",
              "       'samai', 'small millets', 'coriander', 'potato',\n",
              "       'other  rabi pulses', 'soyabean', 'beans & mutter(vegetable)',\n",
              "       'bhindi', 'brinjal', 'citrus fruit', 'cucumber', 'grapes', 'mango',\n",
              "       'orange', 'other fibres', 'other fresh fruits', 'other vegetables',\n",
              "       'papaya', 'pome fruit', 'tomato', 'rapeseed &mustard', 'mesta',\n",
              "       'cowpea(lobia)', 'lemon', 'pome granet', 'sapota', 'cabbage',\n",
              "       'peas  (vegetable)', 'niger seed', 'bottle gourd', 'sannhamp',\n",
              "       'varagu', 'garlic', 'ginger', 'oilseeds total', 'pulses total',\n",
              "       'jute', 'peas & beans (pulses)', 'blackgram', 'paddy', 'pineapple',\n",
              "       'barley', 'khesari', 'guar seed', 'moth',\n",
              "       'other cereals & millets', 'cond-spcs other', 'turnip', 'carrot',\n",
              "       'redish', 'arcanut (processed)', 'atcanut (raw)',\n",
              "       'cashewnut processed', 'cashewnut raw', 'cardamom', 'rubber',\n",
              "       'bitter gourd', 'drum stick', 'jack fruit', 'snak guard',\n",
              "       'pump kin', 'tea', 'coffee', 'cauliflower', 'other citrus fruit',\n",
              "       'water melon', 'total foodgrain', 'kapas', 'colocosia', 'lentil',\n",
              "       'bean', 'jobster', 'perilla', 'rajmash kholar',\n",
              "       'ricebean (nagadal)', 'ash gourd', 'beet root', 'lab-lab',\n",
              "       'ribed guard', 'yam', 'apple', 'peach', 'pear', 'plums', 'litchi',\n",
              "       'ber', 'other dry fruit', 'jute & mesta'], dtype=object)"
            ]
          },
          "metadata": {},
          "execution_count": 100
        }
      ]
    },
    {
      "cell_type": "code",
      "execution_count": 101,
      "metadata": {},
      "outputs": [
        {
          "output_type": "execute_result",
          "data": {
            "text/plain": [
              "['rice',\n",
              " 'banana',\n",
              " 'maize',\n",
              " 'grapes',\n",
              " 'mango',\n",
              " 'orange',\n",
              " 'papaya',\n",
              " 'jute',\n",
              " 'blackgram',\n",
              " 'coffee',\n",
              " 'lentil',\n",
              " 'apple']"
            ]
          },
          "metadata": {},
          "execution_count": 101
        }
      ],
      "source": [
        "lst3 = [value for value in crops if value in wcrops]\n",
        "lst3"
      ]
    },
    {
      "cell_type": "code",
      "execution_count": 102,
      "metadata": {},
      "outputs": [
        {
          "output_type": "execute_result",
          "data": {
            "text/plain": [
              "                        State_Name District_Name  Crop_Year       Season  \\\n",
              "0      Andaman and Nicobar Islands      NICOBARS       2000  Kharif        \n",
              "1      Andaman and Nicobar Islands      NICOBARS       2000  Whole Year    \n",
              "2      Andaman and Nicobar Islands      NICOBARS       2001  Kharif        \n",
              "3      Andaman and Nicobar Islands      NICOBARS       2002  Kharif        \n",
              "4      Andaman and Nicobar Islands      NICOBARS       2002  Whole Year    \n",
              "...                            ...           ...        ...          ...   \n",
              "35199                  West Bengal       PURULIA       2014  Autumn        \n",
              "35200                  West Bengal       PURULIA       2014  Autumn        \n",
              "35201                  West Bengal       PURULIA       2014  Summer        \n",
              "35202                  West Bengal       PURULIA       2014  Summer        \n",
              "35203                  West Bengal       PURULIA       2014  Winter        \n",
              "\n",
              "         Crop      Area  Production  \n",
              "0        Rice     102.0      321.00  \n",
              "1      Banana     176.0      641.00  \n",
              "2        Rice      83.0      300.00  \n",
              "3        Rice     189.2      510.84  \n",
              "4      Banana     213.0     1278.00  \n",
              "...       ...       ...         ...  \n",
              "35199   Maize    6317.0    13337.00  \n",
              "35200    Rice     264.0      721.00  \n",
              "35201   Maize     325.0     2039.00  \n",
              "35202    Rice     306.0      801.00  \n",
              "35203    Rice  279151.0   597899.00  \n",
              "\n",
              "[35204 rows x 7 columns]"
            ],
            "text/html": "<div>\n<style scoped>\n    .dataframe tbody tr th:only-of-type {\n        vertical-align: middle;\n    }\n\n    .dataframe tbody tr th {\n        vertical-align: top;\n    }\n\n    .dataframe thead th {\n        text-align: right;\n    }\n</style>\n<table border=\"1\" class=\"dataframe\">\n  <thead>\n    <tr style=\"text-align: right;\">\n      <th></th>\n      <th>State_Name</th>\n      <th>District_Name</th>\n      <th>Crop_Year</th>\n      <th>Season</th>\n      <th>Crop</th>\n      <th>Area</th>\n      <th>Production</th>\n    </tr>\n  </thead>\n  <tbody>\n    <tr>\n      <th>0</th>\n      <td>Andaman and Nicobar Islands</td>\n      <td>NICOBARS</td>\n      <td>2000</td>\n      <td>Kharif</td>\n      <td>Rice</td>\n      <td>102.0</td>\n      <td>321.00</td>\n    </tr>\n    <tr>\n      <th>1</th>\n      <td>Andaman and Nicobar Islands</td>\n      <td>NICOBARS</td>\n      <td>2000</td>\n      <td>Whole Year</td>\n      <td>Banana</td>\n      <td>176.0</td>\n      <td>641.00</td>\n    </tr>\n    <tr>\n      <th>2</th>\n      <td>Andaman and Nicobar Islands</td>\n      <td>NICOBARS</td>\n      <td>2001</td>\n      <td>Kharif</td>\n      <td>Rice</td>\n      <td>83.0</td>\n      <td>300.00</td>\n    </tr>\n    <tr>\n      <th>3</th>\n      <td>Andaman and Nicobar Islands</td>\n      <td>NICOBARS</td>\n      <td>2002</td>\n      <td>Kharif</td>\n      <td>Rice</td>\n      <td>189.2</td>\n      <td>510.84</td>\n    </tr>\n    <tr>\n      <th>4</th>\n      <td>Andaman and Nicobar Islands</td>\n      <td>NICOBARS</td>\n      <td>2002</td>\n      <td>Whole Year</td>\n      <td>Banana</td>\n      <td>213.0</td>\n      <td>1278.00</td>\n    </tr>\n    <tr>\n      <th>...</th>\n      <td>...</td>\n      <td>...</td>\n      <td>...</td>\n      <td>...</td>\n      <td>...</td>\n      <td>...</td>\n      <td>...</td>\n    </tr>\n    <tr>\n      <th>35199</th>\n      <td>West Bengal</td>\n      <td>PURULIA</td>\n      <td>2014</td>\n      <td>Autumn</td>\n      <td>Maize</td>\n      <td>6317.0</td>\n      <td>13337.00</td>\n    </tr>\n    <tr>\n      <th>35200</th>\n      <td>West Bengal</td>\n      <td>PURULIA</td>\n      <td>2014</td>\n      <td>Autumn</td>\n      <td>Rice</td>\n      <td>264.0</td>\n      <td>721.00</td>\n    </tr>\n    <tr>\n      <th>35201</th>\n      <td>West Bengal</td>\n      <td>PURULIA</td>\n      <td>2014</td>\n      <td>Summer</td>\n      <td>Maize</td>\n      <td>325.0</td>\n      <td>2039.00</td>\n    </tr>\n    <tr>\n      <th>35202</th>\n      <td>West Bengal</td>\n      <td>PURULIA</td>\n      <td>2014</td>\n      <td>Summer</td>\n      <td>Rice</td>\n      <td>306.0</td>\n      <td>801.00</td>\n    </tr>\n    <tr>\n      <th>35203</th>\n      <td>West Bengal</td>\n      <td>PURULIA</td>\n      <td>2014</td>\n      <td>Winter</td>\n      <td>Rice</td>\n      <td>279151.0</td>\n      <td>597899.00</td>\n    </tr>\n  </tbody>\n</table>\n<p>35204 rows × 7 columns</p>\n</div>"
          },
          "metadata": {},
          "execution_count": 102
        }
      ],
      "source": [
        "data=f[f['Crop'].str.lower().isin(lst3)].reset_index(drop=True)\n",
        "data"
      ]
    },
    {
      "cell_type": "code",
      "execution_count": 103,
      "metadata": {},
      "outputs": [],
      "source": [
        "data.to_csv(\"indiaselected.csv\")"
      ]
    },
    {
      "cell_type": "code",
      "execution_count": 104,
      "metadata": {},
      "outputs": [
        {
          "output_type": "execute_result",
          "data": {
            "text/plain": [
              "array(['Andaman and Nicobar Islands', 'Andhra Pradesh',\n",
              "       'Arunachal Pradesh', 'Assam', 'Bihar', 'Chandigarh',\n",
              "       'Chhattisgarh', 'Dadra and Nagar Haveli', 'Goa', 'Gujarat',\n",
              "       'Haryana', 'Himachal Pradesh', 'Jammu and Kashmir ', 'Jharkhand',\n",
              "       'Karnataka', 'Kerala', 'Madhya Pradesh', 'Maharashtra', 'Manipur',\n",
              "       'Meghalaya', 'Mizoram', 'Nagaland', 'Odisha', 'Puducherry',\n",
              "       'Punjab', 'Rajasthan', 'Sikkim', 'Tamil Nadu', 'Telangana ',\n",
              "       'Tripura', 'Uttar Pradesh', 'Uttarakhand', 'West Bengal'],\n",
              "      dtype=object)"
            ]
          },
          "metadata": {},
          "execution_count": 104
        }
      ],
      "source": [
        "data['State_Name'].unique()"
      ]
    },
    {
      "cell_type": "code",
      "metadata": {
        "id": "Q1eJLsI28vmP"
      },
      "source": [
        "data['State_Name']=data['State_Name'].astype('category')\n",
        "data['District_Name']=data['District_Name'].astype('category')\n",
        "data['Season']=data['Season'].astype('category')\n",
        "data['Crop']=data['Crop'].astype('category')\n",
        "# data['Crop_Year']=data['Crop_Year'].astype('category')\n",
        "\n"
      ],
      "execution_count": 106,
      "outputs": []
    },
    {
      "cell_type": "code",
      "metadata": {
        "id": "OLGd0erq-oDu"
      },
      "source": [
        "data['State_Name']=data['State_Name'].cat.codes\n",
        "data['District_Name']=data['District_Name'].cat.codes\n",
        "data['Season']=data['Season'].cat.codes\n",
        "data['Crop']=data['Crop'].cat.codes\n",
        "# data['Crop_Year']=data['Crop_Year'].cat.codes\n"
      ],
      "execution_count": 107,
      "outputs": []
    },
    {
      "cell_type": "code",
      "metadata": {
        "id": "5fzvv9YLBKN_",
        "outputId": "2ceade23-b045-4dee-8ae0-c739f55efc21",
        "colab": {
          "base_uri": "https://localhost:8080/",
          "height": 419
        }
      },
      "source": [
        "data\n"
      ],
      "execution_count": 108,
      "outputs": [
        {
          "output_type": "execute_result",
          "data": {
            "text/plain": [
              "       State_Name  District_Name  Crop_Year  Season  Crop      Area  \\\n",
              "0               0            424       2000       1    11     102.0   \n",
              "1               0            424       2000       4     1     176.0   \n",
              "2               0            424       2001       1    11      83.0   \n",
              "3               0            424       2002       1    11     189.2   \n",
              "4               0            424       2002       4     1     213.0   \n",
              "...           ...            ...        ...     ...   ...       ...   \n",
              "35199          32            468       2014       0     7    6317.0   \n",
              "35200          32            468       2014       0    11     264.0   \n",
              "35201          32            468       2014       3     7     325.0   \n",
              "35202          32            468       2014       3    11     306.0   \n",
              "35203          32            468       2014       5    11  279151.0   \n",
              "\n",
              "       Production  \n",
              "0          321.00  \n",
              "1          641.00  \n",
              "2          300.00  \n",
              "3          510.84  \n",
              "4         1278.00  \n",
              "...           ...  \n",
              "35199    13337.00  \n",
              "35200      721.00  \n",
              "35201     2039.00  \n",
              "35202      801.00  \n",
              "35203   597899.00  \n",
              "\n",
              "[35204 rows x 7 columns]"
            ],
            "text/html": "<div>\n<style scoped>\n    .dataframe tbody tr th:only-of-type {\n        vertical-align: middle;\n    }\n\n    .dataframe tbody tr th {\n        vertical-align: top;\n    }\n\n    .dataframe thead th {\n        text-align: right;\n    }\n</style>\n<table border=\"1\" class=\"dataframe\">\n  <thead>\n    <tr style=\"text-align: right;\">\n      <th></th>\n      <th>State_Name</th>\n      <th>District_Name</th>\n      <th>Crop_Year</th>\n      <th>Season</th>\n      <th>Crop</th>\n      <th>Area</th>\n      <th>Production</th>\n    </tr>\n  </thead>\n  <tbody>\n    <tr>\n      <th>0</th>\n      <td>0</td>\n      <td>424</td>\n      <td>2000</td>\n      <td>1</td>\n      <td>11</td>\n      <td>102.0</td>\n      <td>321.00</td>\n    </tr>\n    <tr>\n      <th>1</th>\n      <td>0</td>\n      <td>424</td>\n      <td>2000</td>\n      <td>4</td>\n      <td>1</td>\n      <td>176.0</td>\n      <td>641.00</td>\n    </tr>\n    <tr>\n      <th>2</th>\n      <td>0</td>\n      <td>424</td>\n      <td>2001</td>\n      <td>1</td>\n      <td>11</td>\n      <td>83.0</td>\n      <td>300.00</td>\n    </tr>\n    <tr>\n      <th>3</th>\n      <td>0</td>\n      <td>424</td>\n      <td>2002</td>\n      <td>1</td>\n      <td>11</td>\n      <td>189.2</td>\n      <td>510.84</td>\n    </tr>\n    <tr>\n      <th>4</th>\n      <td>0</td>\n      <td>424</td>\n      <td>2002</td>\n      <td>4</td>\n      <td>1</td>\n      <td>213.0</td>\n      <td>1278.00</td>\n    </tr>\n    <tr>\n      <th>...</th>\n      <td>...</td>\n      <td>...</td>\n      <td>...</td>\n      <td>...</td>\n      <td>...</td>\n      <td>...</td>\n      <td>...</td>\n    </tr>\n    <tr>\n      <th>35199</th>\n      <td>32</td>\n      <td>468</td>\n      <td>2014</td>\n      <td>0</td>\n      <td>7</td>\n      <td>6317.0</td>\n      <td>13337.00</td>\n    </tr>\n    <tr>\n      <th>35200</th>\n      <td>32</td>\n      <td>468</td>\n      <td>2014</td>\n      <td>0</td>\n      <td>11</td>\n      <td>264.0</td>\n      <td>721.00</td>\n    </tr>\n    <tr>\n      <th>35201</th>\n      <td>32</td>\n      <td>468</td>\n      <td>2014</td>\n      <td>3</td>\n      <td>7</td>\n      <td>325.0</td>\n      <td>2039.00</td>\n    </tr>\n    <tr>\n      <th>35202</th>\n      <td>32</td>\n      <td>468</td>\n      <td>2014</td>\n      <td>3</td>\n      <td>11</td>\n      <td>306.0</td>\n      <td>801.00</td>\n    </tr>\n    <tr>\n      <th>35203</th>\n      <td>32</td>\n      <td>468</td>\n      <td>2014</td>\n      <td>5</td>\n      <td>11</td>\n      <td>279151.0</td>\n      <td>597899.00</td>\n    </tr>\n  </tbody>\n</table>\n<p>35204 rows × 7 columns</p>\n</div>"
          },
          "metadata": {},
          "execution_count": 108
        }
      ]
    },
    {
      "cell_type": "code",
      "execution_count": 109,
      "metadata": {},
      "outputs": [
        {
          "output_type": "execute_result",
          "data": {
            "text/plain": [
              "True"
            ]
          },
          "metadata": {},
          "execution_count": 109
        }
      ],
      "source": [
        "data.isnull().values.any()"
      ]
    },
    {
      "cell_type": "code",
      "execution_count": 110,
      "metadata": {},
      "outputs": [
        {
          "output_type": "execute_result",
          "data": {
            "text/plain": [
              "Index(['State_Name', 'District_Name', 'Crop_Year', 'Season', 'Crop', 'Area',\n",
              "       'Production'],\n",
              "      dtype='object')"
            ]
          },
          "metadata": {},
          "execution_count": 110
        }
      ],
      "source": [
        "data.columns"
      ]
    },
    {
      "cell_type": "code",
      "execution_count": 111,
      "metadata": {},
      "outputs": [],
      "source": [
        "data1=data.drop(['Crop_Year'],axis=1)"
      ]
    },
    {
      "cell_type": "code",
      "execution_count": 112,
      "metadata": {},
      "outputs": [
        {
          "output_type": "execute_result",
          "data": {
            "text/plain": [
              "       State_Name  District_Name  Season  Crop      Area  Production\n",
              "0               0            424       1    11     102.0      321.00\n",
              "1               0            424       4     1     176.0      641.00\n",
              "2               0            424       1    11      83.0      300.00\n",
              "3               0            424       1    11     189.2      510.84\n",
              "4               0            424       4     1     213.0     1278.00\n",
              "...           ...            ...     ...   ...       ...         ...\n",
              "34538          32            468       0     7    6317.0    13337.00\n",
              "34539          32            468       0    11     264.0      721.00\n",
              "34540          32            468       3     7     325.0     2039.00\n",
              "34541          32            468       3    11     306.0      801.00\n",
              "34542          32            468       5    11  279151.0   597899.00\n",
              "\n",
              "[34543 rows x 6 columns]"
            ],
            "text/html": "<div>\n<style scoped>\n    .dataframe tbody tr th:only-of-type {\n        vertical-align: middle;\n    }\n\n    .dataframe tbody tr th {\n        vertical-align: top;\n    }\n\n    .dataframe thead th {\n        text-align: right;\n    }\n</style>\n<table border=\"1\" class=\"dataframe\">\n  <thead>\n    <tr style=\"text-align: right;\">\n      <th></th>\n      <th>State_Name</th>\n      <th>District_Name</th>\n      <th>Season</th>\n      <th>Crop</th>\n      <th>Area</th>\n      <th>Production</th>\n    </tr>\n  </thead>\n  <tbody>\n    <tr>\n      <th>0</th>\n      <td>0</td>\n      <td>424</td>\n      <td>1</td>\n      <td>11</td>\n      <td>102.0</td>\n      <td>321.00</td>\n    </tr>\n    <tr>\n      <th>1</th>\n      <td>0</td>\n      <td>424</td>\n      <td>4</td>\n      <td>1</td>\n      <td>176.0</td>\n      <td>641.00</td>\n    </tr>\n    <tr>\n      <th>2</th>\n      <td>0</td>\n      <td>424</td>\n      <td>1</td>\n      <td>11</td>\n      <td>83.0</td>\n      <td>300.00</td>\n    </tr>\n    <tr>\n      <th>3</th>\n      <td>0</td>\n      <td>424</td>\n      <td>1</td>\n      <td>11</td>\n      <td>189.2</td>\n      <td>510.84</td>\n    </tr>\n    <tr>\n      <th>4</th>\n      <td>0</td>\n      <td>424</td>\n      <td>4</td>\n      <td>1</td>\n      <td>213.0</td>\n      <td>1278.00</td>\n    </tr>\n    <tr>\n      <th>...</th>\n      <td>...</td>\n      <td>...</td>\n      <td>...</td>\n      <td>...</td>\n      <td>...</td>\n      <td>...</td>\n    </tr>\n    <tr>\n      <th>34538</th>\n      <td>32</td>\n      <td>468</td>\n      <td>0</td>\n      <td>7</td>\n      <td>6317.0</td>\n      <td>13337.00</td>\n    </tr>\n    <tr>\n      <th>34539</th>\n      <td>32</td>\n      <td>468</td>\n      <td>0</td>\n      <td>11</td>\n      <td>264.0</td>\n      <td>721.00</td>\n    </tr>\n    <tr>\n      <th>34540</th>\n      <td>32</td>\n      <td>468</td>\n      <td>3</td>\n      <td>7</td>\n      <td>325.0</td>\n      <td>2039.00</td>\n    </tr>\n    <tr>\n      <th>34541</th>\n      <td>32</td>\n      <td>468</td>\n      <td>3</td>\n      <td>11</td>\n      <td>306.0</td>\n      <td>801.00</td>\n    </tr>\n    <tr>\n      <th>34542</th>\n      <td>32</td>\n      <td>468</td>\n      <td>5</td>\n      <td>11</td>\n      <td>279151.0</td>\n      <td>597899.00</td>\n    </tr>\n  </tbody>\n</table>\n<p>34543 rows × 6 columns</p>\n</div>"
          },
          "metadata": {},
          "execution_count": 112
        }
      ],
      "source": [
        "removed=data1[data1['Production']>0].reset_index(drop=True)\n",
        "removed"
      ]
    },
    {
      "cell_type": "code",
      "metadata": {
        "id": "t5YPqDGf_HF_"
      },
      "source": [
        "from sklearn.model_selection import cross_val_score\n",
        "from sklearn.model_selection import RepeatedKFold\n",
        "from sklearn.ensemble import GradientBoostingRegressor\n",
        "from numpy import mean\n",
        "from sklearn.impute import SimpleImputer\n",
        "from sklearn.impute import KNNImputer\n",
        "from numpy import std\n",
        "from sklearn.model_selection import train_test_split\n",
        "imputer=KNNImputer(n_neighbors=5)\n",
        "# imputer=SimpleImputer(missing_values=np.nan, strategy='mean')\n",
        "imputed=imputer.fit_transform(removed)\n",
        "\n"
      ],
      "execution_count": 113,
      "outputs": []
    },
    {
      "cell_type": "code",
      "metadata": {
        "id": "WvhFg8z5AwE4",
        "outputId": "dd8a829e-f13c-4152-c0a8-50d821f58de1",
        "colab": {
          "base_uri": "https://localhost:8080/"
        }
      },
      "source": [
        "imputed"
      ],
      "execution_count": 114,
      "outputs": [
        {
          "output_type": "execute_result",
          "data": {
            "text/plain": [
              "array([[0.00000e+00, 4.24000e+02, 1.00000e+00, 1.10000e+01, 1.02000e+02,\n",
              "        3.21000e+02],\n",
              "       [0.00000e+00, 4.24000e+02, 4.00000e+00, 1.00000e+00, 1.76000e+02,\n",
              "        6.41000e+02],\n",
              "       [0.00000e+00, 4.24000e+02, 1.00000e+00, 1.10000e+01, 8.30000e+01,\n",
              "        3.00000e+02],\n",
              "       ...,\n",
              "       [3.20000e+01, 4.68000e+02, 3.00000e+00, 7.00000e+00, 3.25000e+02,\n",
              "        2.03900e+03],\n",
              "       [3.20000e+01, 4.68000e+02, 3.00000e+00, 1.10000e+01, 3.06000e+02,\n",
              "        8.01000e+02],\n",
              "       [3.20000e+01, 4.68000e+02, 5.00000e+00, 1.10000e+01, 2.79151e+05,\n",
              "        5.97899e+05]])"
            ]
          },
          "metadata": {},
          "execution_count": 114
        }
      ]
    },
    {
      "cell_type": "code",
      "metadata": {
        "id": "p-F83wSpCF1X",
        "outputId": "98aea112-402f-453d-851f-7f99f21fe8a8",
        "colab": {
          "base_uri": "https://localhost:8080/"
        }
      },
      "source": [
        "\n",
        "\n",
        "import math\n",
        "import pickle\n",
        "from sklearn.preprocessing import StandardScaler\n",
        "from sklearn.linear_model import SGDRegressor\n",
        "scalerfile = 'scalergb.sav'\n",
        "scaler = StandardScaler()\n",
        "\n",
        "\n",
        "X=[]\n",
        "y=[]\n",
        "for ele in imputed:\n",
        "  X.append(ele[:-1])\n",
        "  try:\n",
        "    y.append(math.log(ele[-1]))\n",
        "  except:\n",
        "    print(ele[-1])\n",
        "math.log(197)\n"
      ],
      "execution_count": 115,
      "outputs": [
        {
          "output_type": "execute_result",
          "data": {
            "text/plain": [
              "5.2832037287379885"
            ]
          },
          "metadata": {},
          "execution_count": 115
        }
      ]
    },
    {
      "cell_type": "code",
      "execution_count": 116,
      "metadata": {},
      "outputs": [
        {
          "output_type": "execute_result",
          "data": {
            "text/plain": [
              "GradientBoostingRegressor(random_state=0)"
            ]
          },
          "metadata": {},
          "execution_count": 116
        }
      ],
      "source": [
        "scaler.fit(X)\n",
        "pickle.dump(scaler, open(scalerfile, 'wb'))\n",
        "scaled=scaler.transform(X)\n",
        "X_train, X_test, y_train, y_test = train_test_split(\n",
        "    scaled, y, test_size=0.1, random_state=13)\n",
        "\n",
        "reg = GradientBoostingRegressor(random_state=0)\n",
        "# reg=RandomForestRegressor(random_state=0)\n",
        "# reg=SGDRegressor(loss=\"squared_loss\", penalty=None)\n",
        "reg.fit(scaled, y)"
      ]
    },
    {
      "cell_type": "code",
      "metadata": {
        "id": "_IJFRe0yC5nK",
        "outputId": "8b44117b-9e66-470a-d770-ef2e0a58c75a",
        "colab": {
          "base_uri": "https://localhost:8080/"
        }
      },
      "source": [
        "math.exp(reg.predict(X_test[2].reshape(1,-1)))"
      ],
      "execution_count": 117,
      "outputs": [
        {
          "output_type": "execute_result",
          "data": {
            "text/plain": [
              "347238.1408499154"
            ]
          },
          "metadata": {},
          "execution_count": 117
        }
      ]
    },
    {
      "cell_type": "code",
      "metadata": {
        "id": "aMQAgoQaS24p",
        "outputId": "56a7a567-83a4-4c00-ec49-2aeee77932b5",
        "colab": {
          "base_uri": "https://localhost:8080/"
        }
      },
      "source": [
        "math.exp(y_test[2])"
      ],
      "execution_count": 118,
      "outputs": [
        {
          "output_type": "execute_result",
          "data": {
            "text/plain": [
              "403882.0000000001"
            ]
          },
          "metadata": {},
          "execution_count": 118
        }
      ]
    },
    {
      "cell_type": "code",
      "metadata": {
        "id": "k3dpU2YWS-17"
      },
      "source": [
        "\n",
        "pickle.dump(reg, open(\"modelgb.pkl\", \"wb\"))"
      ],
      "execution_count": 119,
      "outputs": []
    },
    {
      "cell_type": "code",
      "execution_count": 14,
      "metadata": {},
      "outputs": [
        {
          "output_type": "stream",
          "name": "stdout",
          "text": [
            "Python 3.8.5\n"
          ]
        }
      ],
      "source": [
        "!python --version"
      ]
    },
    {
      "cell_type": "code",
      "execution_count": 15,
      "metadata": {},
      "outputs": [
        {
          "output_type": "execute_result",
          "data": {
            "text/plain": [
              "'0.24.0'"
            ]
          },
          "metadata": {},
          "execution_count": 15
        }
      ],
      "source": [
        "import sklearn\n",
        "sklearn.__version__"
      ]
    },
    {
      "cell_type": "code",
      "execution_count": null,
      "metadata": {},
      "outputs": [],
      "source": []
    }
  ]
}