{
  "nbformat": 4,
  "nbformat_minor": 0,
  "metadata": {
    "colab": {
      "name": "GradientBoostCropProduction.ipynb",
      "provenance": []
    },
    "kernelspec": {
      "name": "python3",
      "display_name": "Python 3.8.5 64-bit ('env')",
      "metadata": {
        "interpreter": {
          "hash": "6af8fdb6867bcb59c2c1eb324ffdfb4df5fc89708df13d885f78fd005c111886"
        }
      }
    }
  },
  "cells": [
    {
      "cell_type": "code",
      "metadata": {
        "id": "S-ogToEN4L4u"
      },
      "source": [
        "import pandas as pd\n",
        "import numpy as np\n",
        "\n",
        "# data=pd.read_csv('/content/apy.csv')\n",
        "data=pd.read_csv('apy.csv')"
      ],
      "execution_count": 3,
      "outputs": []
    },
    {
      "cell_type": "code",
      "metadata": {
        "id": "ecFR8iez5Ni7",
        "outputId": "7e36c535-df79-4d20-f34b-fefc669d5fc3",
        "colab": {
          "base_uri": "https://localhost:8080/",
          "height": 204
        }
      },
      "source": [
        "data.head()"
      ],
      "execution_count": 4,
      "outputs": [
        {
          "output_type": "execute_result",
          "data": {
            "text/plain": [
              "                    State_Name District_Name  Crop_Year       Season  \\\n",
              "0  Andaman and Nicobar Islands      NICOBARS       2000  Kharif        \n",
              "1  Andaman and Nicobar Islands      NICOBARS       2000  Kharif        \n",
              "2  Andaman and Nicobar Islands      NICOBARS       2000  Kharif        \n",
              "3  Andaman and Nicobar Islands      NICOBARS       2000  Whole Year    \n",
              "4  Andaman and Nicobar Islands      NICOBARS       2000  Whole Year    \n",
              "\n",
              "                  Crop    Area  Production  \n",
              "0             Arecanut  1254.0      2000.0  \n",
              "1  Other Kharif pulses     2.0         1.0  \n",
              "2                 Rice   102.0       321.0  \n",
              "3               Banana   176.0       641.0  \n",
              "4            Cashewnut   720.0       165.0  "
            ],
            "text/html": "<div>\n<style scoped>\n    .dataframe tbody tr th:only-of-type {\n        vertical-align: middle;\n    }\n\n    .dataframe tbody tr th {\n        vertical-align: top;\n    }\n\n    .dataframe thead th {\n        text-align: right;\n    }\n</style>\n<table border=\"1\" class=\"dataframe\">\n  <thead>\n    <tr style=\"text-align: right;\">\n      <th></th>\n      <th>State_Name</th>\n      <th>District_Name</th>\n      <th>Crop_Year</th>\n      <th>Season</th>\n      <th>Crop</th>\n      <th>Area</th>\n      <th>Production</th>\n    </tr>\n  </thead>\n  <tbody>\n    <tr>\n      <th>0</th>\n      <td>Andaman and Nicobar Islands</td>\n      <td>NICOBARS</td>\n      <td>2000</td>\n      <td>Kharif</td>\n      <td>Arecanut</td>\n      <td>1254.0</td>\n      <td>2000.0</td>\n    </tr>\n    <tr>\n      <th>1</th>\n      <td>Andaman and Nicobar Islands</td>\n      <td>NICOBARS</td>\n      <td>2000</td>\n      <td>Kharif</td>\n      <td>Other Kharif pulses</td>\n      <td>2.0</td>\n      <td>1.0</td>\n    </tr>\n    <tr>\n      <th>2</th>\n      <td>Andaman and Nicobar Islands</td>\n      <td>NICOBARS</td>\n      <td>2000</td>\n      <td>Kharif</td>\n      <td>Rice</td>\n      <td>102.0</td>\n      <td>321.0</td>\n    </tr>\n    <tr>\n      <th>3</th>\n      <td>Andaman and Nicobar Islands</td>\n      <td>NICOBARS</td>\n      <td>2000</td>\n      <td>Whole Year</td>\n      <td>Banana</td>\n      <td>176.0</td>\n      <td>641.0</td>\n    </tr>\n    <tr>\n      <th>4</th>\n      <td>Andaman and Nicobar Islands</td>\n      <td>NICOBARS</td>\n      <td>2000</td>\n      <td>Whole Year</td>\n      <td>Cashewnut</td>\n      <td>720.0</td>\n      <td>165.0</td>\n    </tr>\n  </tbody>\n</table>\n</div>"
          },
          "metadata": {},
          "execution_count": 4
        }
      ]
    },
    {
      "cell_type": "code",
      "metadata": {
        "id": "26ybgj--5Qku",
        "outputId": "8a341643-2c94-4770-f447-2a0f3163d0e8",
        "colab": {
          "base_uri": "https://localhost:8080/"
        }
      },
      "source": [
        "data['Crop'].unique()"
      ],
      "execution_count": 5,
      "outputs": [
        {
          "output_type": "execute_result",
          "data": {
            "text/plain": [
              "array(['Arecanut', 'Other Kharif pulses', 'Rice', 'Banana', 'Cashewnut',\n",
              "       'Coconut ', 'Dry ginger', 'Sugarcane', 'Sweet potato', 'Tapioca',\n",
              "       'Black pepper', 'Dry chillies', 'other oilseeds', 'Turmeric',\n",
              "       'Maize', 'Moong(Green Gram)', 'Urad', 'Arhar/Tur', 'Groundnut',\n",
              "       'Sunflower', 'Bajra', 'Castor seed', 'Cotton(lint)', 'Horse-gram',\n",
              "       'Jowar', 'Korra', 'Ragi', 'Tobacco', 'Gram', 'Wheat', 'Masoor',\n",
              "       'Sesamum', 'Linseed', 'Safflower', 'Onion', 'other misc. pulses',\n",
              "       'Samai', 'Small millets', 'Coriander', 'Potato',\n",
              "       'Other  Rabi pulses', 'Soyabean', 'Beans & Mutter(Vegetable)',\n",
              "       'Bhindi', 'Brinjal', 'Citrus Fruit', 'Cucumber', 'Grapes', 'Mango',\n",
              "       'Orange', 'other fibres', 'Other Fresh Fruits', 'Other Vegetables',\n",
              "       'Papaya', 'Pome Fruit', 'Tomato', 'Rapeseed &Mustard', 'Mesta',\n",
              "       'Cowpea(Lobia)', 'Lemon', 'Pome Granet', 'Sapota', 'Cabbage',\n",
              "       'Peas  (vegetable)', 'Niger seed', 'Bottle Gourd', 'Sannhamp',\n",
              "       'Varagu', 'Garlic', 'Ginger', 'Oilseeds total', 'Pulses total',\n",
              "       'Jute', 'Peas & beans (Pulses)', 'Blackgram', 'Paddy', 'Pineapple',\n",
              "       'Barley', 'Khesari', 'Guar seed', 'Moth',\n",
              "       'Other Cereals & Millets', 'Cond-spcs other', 'Turnip', 'Carrot',\n",
              "       'Redish', 'Arcanut (Processed)', 'Atcanut (Raw)',\n",
              "       'Cashewnut Processed', 'Cashewnut Raw', 'Cardamom', 'Rubber',\n",
              "       'Bitter Gourd', 'Drum Stick', 'Jack Fruit', 'Snak Guard',\n",
              "       'Pump Kin', 'Tea', 'Coffee', 'Cauliflower', 'Other Citrus Fruit',\n",
              "       'Water Melon', 'Total foodgrain', 'Kapas', 'Colocosia', 'Lentil',\n",
              "       'Bean', 'Jobster', 'Perilla', 'Rajmash Kholar',\n",
              "       'Ricebean (nagadal)', 'Ash Gourd', 'Beet Root', 'Lab-Lab',\n",
              "       'Ribed Guard', 'Yam', 'Apple', 'Peach', 'Pear', 'Plums', 'Litchi',\n",
              "       'Ber', 'Other Dry Fruit', 'Jute & mesta'], dtype=object)"
            ]
          },
          "metadata": {},
          "execution_count": 5
        }
      ]
    },
    {
      "cell_type": "code",
      "metadata": {
        "id": "Q1eJLsI28vmP"
      },
      "source": [
        "data['State_Name']=data['State_Name'].astype('category')\n",
        "data['District_Name']=data['District_Name'].astype('category')\n",
        "data['Season']=data['Season'].astype('category')\n",
        "data['Crop']=data['Crop'].astype('category')\n",
        "data['Crop_Year']=data['Crop_Year'].astype('category')\n",
        "\n"
      ],
      "execution_count": 6,
      "outputs": []
    },
    {
      "cell_type": "code",
      "metadata": {
        "id": "OLGd0erq-oDu"
      },
      "source": [
        "data['State_Name']=data['State_Name'].cat.codes\n",
        "data['District_Name']=data['District_Name'].cat.codes\n",
        "data['Season']=data['Season'].cat.codes\n",
        "data['Crop']=data['Crop'].cat.codes\n",
        "data['Crop_Year']=data['Crop_Year'].cat.codes\n"
      ],
      "execution_count": 7,
      "outputs": []
    },
    {
      "cell_type": "code",
      "metadata": {
        "id": "5fzvv9YLBKN_",
        "outputId": "2ceade23-b045-4dee-8ae0-c739f55efc21",
        "colab": {
          "base_uri": "https://localhost:8080/",
          "height": 419
        }
      },
      "source": [
        "data\n"
      ],
      "execution_count": 8,
      "outputs": [
        {
          "output_type": "execute_result",
          "data": {
            "text/plain": [
              "        State_Name  District_Name  Crop_Year  Season  Crop      Area  \\\n",
              "0                0            427          3       1     2    1254.0   \n",
              "1                0            427          3       1    74       2.0   \n",
              "2                0            427          3       1    95     102.0   \n",
              "3                0            427          3       4     7     176.0   \n",
              "4                0            427          3       4    22     720.0   \n",
              "...            ...            ...        ...     ...   ...       ...   \n",
              "246086          32            471         17       3    95     306.0   \n",
              "246087          32            471         17       3   102     627.0   \n",
              "246088          32            471         17       4   106     324.0   \n",
              "246089          32            471         17       5    95  279151.0   \n",
              "246090          32            471         17       5   102     175.0   \n",
              "\n",
              "        Production  \n",
              "0           2000.0  \n",
              "1              1.0  \n",
              "2            321.0  \n",
              "3            641.0  \n",
              "4            165.0  \n",
              "...            ...  \n",
              "246086       801.0  \n",
              "246087       463.0  \n",
              "246088     16250.0  \n",
              "246089    597899.0  \n",
              "246090        88.0  \n",
              "\n",
              "[246091 rows x 7 columns]"
            ],
            "text/html": "<div>\n<style scoped>\n    .dataframe tbody tr th:only-of-type {\n        vertical-align: middle;\n    }\n\n    .dataframe tbody tr th {\n        vertical-align: top;\n    }\n\n    .dataframe thead th {\n        text-align: right;\n    }\n</style>\n<table border=\"1\" class=\"dataframe\">\n  <thead>\n    <tr style=\"text-align: right;\">\n      <th></th>\n      <th>State_Name</th>\n      <th>District_Name</th>\n      <th>Crop_Year</th>\n      <th>Season</th>\n      <th>Crop</th>\n      <th>Area</th>\n      <th>Production</th>\n    </tr>\n  </thead>\n  <tbody>\n    <tr>\n      <th>0</th>\n      <td>0</td>\n      <td>427</td>\n      <td>3</td>\n      <td>1</td>\n      <td>2</td>\n      <td>1254.0</td>\n      <td>2000.0</td>\n    </tr>\n    <tr>\n      <th>1</th>\n      <td>0</td>\n      <td>427</td>\n      <td>3</td>\n      <td>1</td>\n      <td>74</td>\n      <td>2.0</td>\n      <td>1.0</td>\n    </tr>\n    <tr>\n      <th>2</th>\n      <td>0</td>\n      <td>427</td>\n      <td>3</td>\n      <td>1</td>\n      <td>95</td>\n      <td>102.0</td>\n      <td>321.0</td>\n    </tr>\n    <tr>\n      <th>3</th>\n      <td>0</td>\n      <td>427</td>\n      <td>3</td>\n      <td>4</td>\n      <td>7</td>\n      <td>176.0</td>\n      <td>641.0</td>\n    </tr>\n    <tr>\n      <th>4</th>\n      <td>0</td>\n      <td>427</td>\n      <td>3</td>\n      <td>4</td>\n      <td>22</td>\n      <td>720.0</td>\n      <td>165.0</td>\n    </tr>\n    <tr>\n      <th>...</th>\n      <td>...</td>\n      <td>...</td>\n      <td>...</td>\n      <td>...</td>\n      <td>...</td>\n      <td>...</td>\n      <td>...</td>\n    </tr>\n    <tr>\n      <th>246086</th>\n      <td>32</td>\n      <td>471</td>\n      <td>17</td>\n      <td>3</td>\n      <td>95</td>\n      <td>306.0</td>\n      <td>801.0</td>\n    </tr>\n    <tr>\n      <th>246087</th>\n      <td>32</td>\n      <td>471</td>\n      <td>17</td>\n      <td>3</td>\n      <td>102</td>\n      <td>627.0</td>\n      <td>463.0</td>\n    </tr>\n    <tr>\n      <th>246088</th>\n      <td>32</td>\n      <td>471</td>\n      <td>17</td>\n      <td>4</td>\n      <td>106</td>\n      <td>324.0</td>\n      <td>16250.0</td>\n    </tr>\n    <tr>\n      <th>246089</th>\n      <td>32</td>\n      <td>471</td>\n      <td>17</td>\n      <td>5</td>\n      <td>95</td>\n      <td>279151.0</td>\n      <td>597899.0</td>\n    </tr>\n    <tr>\n      <th>246090</th>\n      <td>32</td>\n      <td>471</td>\n      <td>17</td>\n      <td>5</td>\n      <td>102</td>\n      <td>175.0</td>\n      <td>88.0</td>\n    </tr>\n  </tbody>\n</table>\n<p>246091 rows × 7 columns</p>\n</div>"
          },
          "metadata": {},
          "execution_count": 8
        }
      ]
    },
    {
      "cell_type": "code",
      "execution_count": 9,
      "metadata": {},
      "outputs": [
        {
          "output_type": "execute_result",
          "data": {
            "text/plain": [
              "True"
            ]
          },
          "metadata": {},
          "execution_count": 9
        }
      ],
      "source": [
        "data.isnull().values.any()"
      ]
    },
    {
      "cell_type": "code",
      "execution_count": 64,
      "metadata": {},
      "outputs": [
        {
          "output_type": "execute_result",
          "data": {
            "text/plain": [
              "Index(['State_Name', 'District_Name', 'Crop_Year', 'Season', 'Crop', 'Area',\n",
              "       'Production'],\n",
              "      dtype='object')"
            ]
          },
          "metadata": {},
          "execution_count": 64
        }
      ],
      "source": [
        "data.columns"
      ]
    },
    {
      "cell_type": "code",
      "execution_count": 62,
      "metadata": {},
      "outputs": [],
      "source": [
        "data1=data.drop(['Crop_Year'],axis=1)"
      ]
    },
    {
      "cell_type": "code",
      "execution_count": 65,
      "metadata": {},
      "outputs": [
        {
          "output_type": "execute_result",
          "data": {
            "text/plain": [
              "        State_Name  District_Name  Season  Crop      Area  Production\n",
              "0                0            427       1     2    1254.0      2000.0\n",
              "1                0            427       1    74       2.0         1.0\n",
              "2                0            427       1    95     102.0       321.0\n",
              "3                0            427       4     7     176.0       641.0\n",
              "4                0            427       4    22     720.0       165.0\n",
              "...            ...            ...     ...   ...       ...         ...\n",
              "238833          32            471       3    95     306.0       801.0\n",
              "238834          32            471       3   102     627.0       463.0\n",
              "238835          32            471       4   106     324.0     16250.0\n",
              "238836          32            471       5    95  279151.0    597899.0\n",
              "238837          32            471       5   102     175.0        88.0\n",
              "\n",
              "[238838 rows x 6 columns]"
            ],
            "text/html": "<div>\n<style scoped>\n    .dataframe tbody tr th:only-of-type {\n        vertical-align: middle;\n    }\n\n    .dataframe tbody tr th {\n        vertical-align: top;\n    }\n\n    .dataframe thead th {\n        text-align: right;\n    }\n</style>\n<table border=\"1\" class=\"dataframe\">\n  <thead>\n    <tr style=\"text-align: right;\">\n      <th></th>\n      <th>State_Name</th>\n      <th>District_Name</th>\n      <th>Season</th>\n      <th>Crop</th>\n      <th>Area</th>\n      <th>Production</th>\n    </tr>\n  </thead>\n  <tbody>\n    <tr>\n      <th>0</th>\n      <td>0</td>\n      <td>427</td>\n      <td>1</td>\n      <td>2</td>\n      <td>1254.0</td>\n      <td>2000.0</td>\n    </tr>\n    <tr>\n      <th>1</th>\n      <td>0</td>\n      <td>427</td>\n      <td>1</td>\n      <td>74</td>\n      <td>2.0</td>\n      <td>1.0</td>\n    </tr>\n    <tr>\n      <th>2</th>\n      <td>0</td>\n      <td>427</td>\n      <td>1</td>\n      <td>95</td>\n      <td>102.0</td>\n      <td>321.0</td>\n    </tr>\n    <tr>\n      <th>3</th>\n      <td>0</td>\n      <td>427</td>\n      <td>4</td>\n      <td>7</td>\n      <td>176.0</td>\n      <td>641.0</td>\n    </tr>\n    <tr>\n      <th>4</th>\n      <td>0</td>\n      <td>427</td>\n      <td>4</td>\n      <td>22</td>\n      <td>720.0</td>\n      <td>165.0</td>\n    </tr>\n    <tr>\n      <th>...</th>\n      <td>...</td>\n      <td>...</td>\n      <td>...</td>\n      <td>...</td>\n      <td>...</td>\n      <td>...</td>\n    </tr>\n    <tr>\n      <th>238833</th>\n      <td>32</td>\n      <td>471</td>\n      <td>3</td>\n      <td>95</td>\n      <td>306.0</td>\n      <td>801.0</td>\n    </tr>\n    <tr>\n      <th>238834</th>\n      <td>32</td>\n      <td>471</td>\n      <td>3</td>\n      <td>102</td>\n      <td>627.0</td>\n      <td>463.0</td>\n    </tr>\n    <tr>\n      <th>238835</th>\n      <td>32</td>\n      <td>471</td>\n      <td>4</td>\n      <td>106</td>\n      <td>324.0</td>\n      <td>16250.0</td>\n    </tr>\n    <tr>\n      <th>238836</th>\n      <td>32</td>\n      <td>471</td>\n      <td>5</td>\n      <td>95</td>\n      <td>279151.0</td>\n      <td>597899.0</td>\n    </tr>\n    <tr>\n      <th>238837</th>\n      <td>32</td>\n      <td>471</td>\n      <td>5</td>\n      <td>102</td>\n      <td>175.0</td>\n      <td>88.0</td>\n    </tr>\n  </tbody>\n</table>\n<p>238838 rows × 6 columns</p>\n</div>"
          },
          "metadata": {},
          "execution_count": 65
        }
      ],
      "source": [
        "removed=data1[data1['Production']>0].reset_index(drop=True)\n",
        "removed"
      ]
    },
    {
      "cell_type": "code",
      "metadata": {
        "id": "t5YPqDGf_HF_"
      },
      "source": [
        "from sklearn.model_selection import cross_val_score\n",
        "from sklearn.model_selection import RepeatedKFold\n",
        "from sklearn.ensemble import GradientBoostingRegressor\n",
        "from numpy import mean\n",
        "from sklearn.impute import SimpleImputer\n",
        "from sklearn.impute import KNNImputer\n",
        "from numpy import std\n",
        "from sklearn.model_selection import train_test_split\n",
        "imputer=KNNImputer(n_neighbors=5)\n",
        "# imputer=SimpleImputer(missing_values=np.nan, strategy='mean')\n",
        "imputed=imputer.fit_transform(removed)\n",
        "\n"
      ],
      "execution_count": 66,
      "outputs": []
    },
    {
      "cell_type": "code",
      "metadata": {
        "id": "WvhFg8z5AwE4",
        "outputId": "dd8a829e-f13c-4152-c0a8-50d821f58de1",
        "colab": {
          "base_uri": "https://localhost:8080/"
        }
      },
      "source": [
        "imputed"
      ],
      "execution_count": 67,
      "outputs": [
        {
          "output_type": "execute_result",
          "data": {
            "text/plain": [
              "array([[0.00000e+00, 4.27000e+02, 1.00000e+00, 2.00000e+00, 1.25400e+03,\n",
              "        2.00000e+03],\n",
              "       [0.00000e+00, 4.27000e+02, 1.00000e+00, 7.40000e+01, 2.00000e+00,\n",
              "        1.00000e+00],\n",
              "       [0.00000e+00, 4.27000e+02, 1.00000e+00, 9.50000e+01, 1.02000e+02,\n",
              "        3.21000e+02],\n",
              "       ...,\n",
              "       [3.20000e+01, 4.71000e+02, 4.00000e+00, 1.06000e+02, 3.24000e+02,\n",
              "        1.62500e+04],\n",
              "       [3.20000e+01, 4.71000e+02, 5.00000e+00, 9.50000e+01, 2.79151e+05,\n",
              "        5.97899e+05],\n",
              "       [3.20000e+01, 4.71000e+02, 5.00000e+00, 1.02000e+02, 1.75000e+02,\n",
              "        8.80000e+01]])"
            ]
          },
          "metadata": {},
          "execution_count": 67
        }
      ]
    },
    {
      "cell_type": "code",
      "execution_count": null,
      "metadata": {},
      "outputs": [],
      "source": []
    },
    {
      "cell_type": "code",
      "metadata": {
        "id": "p-F83wSpCF1X",
        "outputId": "98aea112-402f-453d-851f-7f99f21fe8a8",
        "colab": {
          "base_uri": "https://localhost:8080/"
        }
      },
      "source": [
        "\n",
        "\n",
        "import math\n",
        "import pickle\n",
        "from sklearn.preprocessing import StandardScaler\n",
        "from sklearn.linear_model import SGDRegressor\n",
        "scalerfile = 'scalergb.sav'\n",
        "scaler = StandardScaler()\n",
        "\n",
        "\n",
        "X=[]\n",
        "y=[]\n",
        "for ele in imputed:\n",
        "  X.append(ele[:-1])\n",
        "  try:\n",
        "    y.append(math.log(ele[-1]))\n",
        "  except:\n",
        "    print(ele[-1])\n",
        "math.log(197)\n"
      ],
      "execution_count": 68,
      "outputs": [
        {
          "output_type": "execute_result",
          "data": {
            "text/plain": [
              "5.2832037287379885"
            ]
          },
          "metadata": {},
          "execution_count": 68
        }
      ]
    },
    {
      "cell_type": "code",
      "execution_count": 69,
      "metadata": {},
      "outputs": [
        {
          "output_type": "execute_result",
          "data": {
            "text/plain": [
              "GradientBoostingRegressor(random_state=0)"
            ]
          },
          "metadata": {},
          "execution_count": 69
        }
      ],
      "source": [
        "scaler.fit(X)\n",
        "pickle.dump(scaler, open(scalerfile, 'wb'))\n",
        "scaled=scaler.transform(X)\n",
        "X_train, X_test, y_train, y_test = train_test_split(\n",
        "    scaled, y, test_size=0.1, random_state=13)\n",
        "\n",
        "reg = GradientBoostingRegressor(random_state=0)\n",
        "# reg=RandomForestRegressor(random_state=0)\n",
        "# reg=SGDRegressor(loss=\"squared_loss\", penalty=None)\n",
        "reg.fit(scaled, y)"
      ]
    },
    {
      "cell_type": "code",
      "metadata": {
        "id": "_IJFRe0yC5nK",
        "outputId": "8b44117b-9e66-470a-d770-ef2e0a58c75a",
        "colab": {
          "base_uri": "https://localhost:8080/"
        }
      },
      "source": [
        "math.exp(reg.predict(X_test[2].reshape(1,-1)))"
      ],
      "execution_count": 70,
      "outputs": [
        {
          "output_type": "execute_result",
          "data": {
            "text/plain": [
              "2526.965878536092"
            ]
          },
          "metadata": {},
          "execution_count": 70
        }
      ]
    },
    {
      "cell_type": "code",
      "metadata": {
        "id": "aMQAgoQaS24p",
        "outputId": "56a7a567-83a4-4c00-ec49-2aeee77932b5",
        "colab": {
          "base_uri": "https://localhost:8080/"
        }
      },
      "source": [
        "math.exp(y_test[2])"
      ],
      "execution_count": 71,
      "outputs": [
        {
          "output_type": "execute_result",
          "data": {
            "text/plain": [
              "20343.000000000015"
            ]
          },
          "metadata": {},
          "execution_count": 71
        }
      ]
    },
    {
      "cell_type": "code",
      "metadata": {
        "id": "k3dpU2YWS-17"
      },
      "source": [
        "\n",
        "pickle.dump(reg, open(\"modelgb.pkl\", \"wb\"))"
      ],
      "execution_count": 72,
      "outputs": []
    },
    {
      "cell_type": "code",
      "execution_count": 14,
      "metadata": {},
      "outputs": [
        {
          "output_type": "stream",
          "name": "stdout",
          "text": [
            "Python 3.8.5\n"
          ]
        }
      ],
      "source": [
        "!python --version"
      ]
    },
    {
      "cell_type": "code",
      "execution_count": 15,
      "metadata": {},
      "outputs": [
        {
          "output_type": "execute_result",
          "data": {
            "text/plain": [
              "'0.24.0'"
            ]
          },
          "metadata": {},
          "execution_count": 15
        }
      ],
      "source": [
        "import sklearn\n",
        "sklearn.__version__"
      ]
    },
    {
      "cell_type": "code",
      "execution_count": null,
      "metadata": {},
      "outputs": [],
      "source": []
    }
  ]
}